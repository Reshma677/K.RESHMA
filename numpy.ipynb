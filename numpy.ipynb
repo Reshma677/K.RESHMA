{
  "nbformat": 4,
  "nbformat_minor": 0,
  "metadata": {
    "colab": {
      "provenance": [],
      "authorship_tag": "ABX9TyOyb9L5PTu5oxvKyEBsPS8O",
      "include_colab_link": true
    },
    "kernelspec": {
      "name": "python3",
      "display_name": "Python 3"
    },
    "language_info": {
      "name": "python"
    }
  },
  "cells": [
    {
      "cell_type": "markdown",
      "metadata": {
        "id": "view-in-github",
        "colab_type": "text"
      },
      "source": [
        "<a href=\"https://colab.research.google.com/github/Reshma677/K.RESHMA/blob/main/numpy.ipynb\" target=\"_parent\"><img src=\"https://colab.research.google.com/assets/colab-badge.svg\" alt=\"Open In Colab\"/></a>"
      ]
    },
    {
      "cell_type": "markdown",
      "source": [
        "# **Theoretical Questions:**"
      ],
      "metadata": {
        "id": "i6xsUYzncK-x"
      }
    },
    {
      "cell_type": "markdown",
      "source": [
        "1. Explain the purpose and advantages of NumPy in scientific computing and data analysis. How does it\n",
        "enhance Python's capabilities for numerical operations?\n",
        "\n",
        "ANS  the purpose and advantages of NumPy in scientific computing and data analysis:\n",
        "\n",
        "Purpose:\n",
        "\n",
        "NumPy is the fundamental package for scientific computing with Python. It provides support for large, multi-dimensional arrays and matrices, along with a large collection of high-level mathematical functions to operate on these arrays.\n",
        "\n",
        "Advantages:\n",
        "\n",
        "Efficiency: NumPy's core is implemented in C, making it significantly faster than native Python code for numerical operations. This is crucial when dealing with large datasets or complex computations.\n",
        "Multi-dimensional arrays: NumPy's ndarray (n-dimensional array) is a powerful data structure for storing and manipulating large datasets efficiently. It allows for vectorized operations, eliminating the need for explicit loops, further improving performance.\n",
        "Broadcasting: NumPy's broadcasting feature simplifies operations between arrays of different shapes, enabling concise and efficient code.\n",
        "Mathematical functions: NumPy provides a vast collection of mathematical functions, covering areas like linear algebra, Fourier transforms, random number generation, and more, eliminating the need for writing custom implementations.\n",
        "How NumPy enhances Python's capabilities for numerical operations:\n",
        "\n",
        "NumPy provides the foundation for performing efficient numerical computations in Python. Its ndarray object and optimized functions significantly outperform Python's built-in lists for numerical tasks. Without NumPy, scientific computing and data analysis in Python would be much slower and less convenient."
      ],
      "metadata": {
        "id": "nLf2NnelHHrd"
      }
    },
    {
      "cell_type": "markdown",
      "source": [
        "2. Compare and contrast np.mean() and np.average() functions in NumPy. When would you use one over the others?\n",
        "\n",
        "ANS   \n",
        "\n",
        "Similarities:\n",
        "\n",
        "Both functions calculate the average (central tendency) of an array of numbers.\n",
        "By default, they compute the arithmetic mean.\n",
        "\n",
        "\n",
        "Differences:\n",
        "\n",
        "np.average() can handle weighted averages using the weights parameter. This makes np.average() more versatile.\n",
        "np.mean() does not have a weights parameter. It always calculates the unweighted arithmetic mean.\n",
        "When to use which function?\n",
        "\n",
        "Use np.mean() for calculating the simple arithmetic mean of an array.\n",
        "Use np.average() when you need to calculate a weighted average, where different elements of the array have different importances.\n"
      ],
      "metadata": {
        "id": "pHnlfpPwHu5B"
      }
    },
    {
      "cell_type": "code",
      "source": [
        "import numpy as np\n",
        "\n",
        "data = np.array([1, 2, 3, 4, 5])\n",
        "weights = np.array([1, 2, 3, 2, 1])\n",
        "\n",
        "mean = np.mean(data)\n",
        "weighted_average = np.average(data, weights=weights)\n",
        "\n",
        "print(f\"Mean: {mean}\")\n",
        "print(f\"Weighted Average: {weighted_average}\")"
      ],
      "metadata": {
        "colab": {
          "base_uri": "https://localhost:8080/"
        },
        "id": "gQHNMOP2IRFB",
        "outputId": "ee7ae067-5cf3-4cca-f41c-3ef3a8907571"
      },
      "execution_count": 1,
      "outputs": [
        {
          "output_type": "stream",
          "name": "stdout",
          "text": [
            "Mean: 3.0\n",
            "Weighted Average: 3.0\n"
          ]
        }
      ]
    },
    {
      "cell_type": "markdown",
      "source": [
        "In this example, mean will be the arithmetic mean of data (which is 3). weighted_average will be the weighted average, calculated by multiplying each element in data with its corresponding weight in weights, summing the results, and dividing by the sum of the weights.\n",
        "\n",
        "In summary: If you need a simple average, use np.mean(). If you need a weighted average, use np.average().\n",
        "\n",
        "I hope this helps! Let me know if you have any other questions."
      ],
      "metadata": {
        "id": "XssxIoQIIlC1"
      }
    },
    {
      "cell_type": "markdown",
      "source": [
        "3. Describe the methods for reversing a NumPy array along different axes. Provide examples for 1D and 2D array?\n",
        "\n",
        "ANS      Reversing a 1D NumPy Array You can reverse a 1D NumPy array using the np.flip() function or array slicing. Here's how:"
      ],
      "metadata": {
        "id": "5X33VCqHIowt"
      }
    },
    {
      "cell_type": "code",
      "source": [
        "import numpy as np\n",
        "\n",
        "arr = np.array([1, 2, 3, 4, 5])\n",
        "\n",
        "# Using np.flip()\n",
        "reversed_arr = np.flip(arr)\n",
        "print(reversed_arr)  # Output: [5 4 3 2 1]\n",
        "\n",
        "# Using array slicing\n",
        "reversed_arr = arr[::-1]\n",
        "print(reversed_arr)"
      ],
      "metadata": {
        "colab": {
          "base_uri": "https://localhost:8080/"
        },
        "id": "zh1BmQgQJNUm",
        "outputId": "ecc41f8f-4385-43a1-d06d-2f287541cc70"
      },
      "execution_count": 2,
      "outputs": [
        {
          "output_type": "stream",
          "name": "stdout",
          "text": [
            "[5 4 3 2 1]\n",
            "[5 4 3 2 1]\n"
          ]
        }
      ]
    },
    {
      "cell_type": "markdown",
      "source": [
        "Reversing a 2D NumPy Array\n",
        "\n",
        "\n",
        "For a 2D NumPy array, you can reverse it along different axes using np.flip() with the axis argument. Here's an example:"
      ],
      "metadata": {
        "id": "i2AvjLalJbY-"
      }
    },
    {
      "cell_type": "code",
      "source": [
        "import numpy as np\n",
        "\n",
        "arr = np.array([[1, 2, 3],\n",
        "              [4, 5, 6],\n",
        "              [7, 8, 9]])\n",
        "\n",
        "# Reverse along axis 0 (rows)\n",
        "reversed_arr_rows = np.flip(arr, axis=0)\n",
        "print(reversed_arr_rows)\n",
        "\n",
        "# Reverse along axis 1 (columns)\n",
        "reversed_arr_cols = np.flip(arr, axis=1)\n",
        "print(reversed_arr_cols)\n",
        "\n",
        "# Reverse along both axes\n",
        "reversed_arr_both = np.flip(arr)\n",
        "print(reversed_arr_both)\n"
      ],
      "metadata": {
        "colab": {
          "base_uri": "https://localhost:8080/"
        },
        "id": "bzT9zGk0Ji6H",
        "outputId": "259c5d30-8fb0-4256-ac91-b713283bb723"
      },
      "execution_count": 3,
      "outputs": [
        {
          "output_type": "stream",
          "name": "stdout",
          "text": [
            "[[7 8 9]\n",
            " [4 5 6]\n",
            " [1 2 3]]\n",
            "[[3 2 1]\n",
            " [6 5 4]\n",
            " [9 8 7]]\n",
            "[[9 8 7]\n",
            " [6 5 4]\n",
            " [3 2 1]]\n"
          ]
        }
      ]
    },
    {
      "cell_type": "markdown",
      "source": [
        "In summary:\n",
        "\n",
        "np.flip() reverses elements along the specified axis or all axes by default.\n",
        "Array slicing [::-1] is a convenient way to reverse a 1D array or along a specific axis in a multidimensional array.\n",
        "axis=0 refers to rows, and axis=1 refers to columns in a 2D array.\n",
        "Sources"
      ],
      "metadata": {
        "id": "C0Lj4_vQJ8Yn"
      }
    },
    {
      "cell_type": "markdown",
      "source": [
        "4.. How can you determine the data type of elements in a NumPy array? Discuss the importance of data types\n",
        "in memory management and performance.\n",
        "\n",
        "ANS    the data type of elements in a NumPy array and the importance of data types in memory management and performance:\n",
        "\n",
        "Determining the Data Type\n",
        "\n",
        "To determine the data type of elements in a NumPy array, you can use the dtype attribute."
      ],
      "metadata": {
        "id": "abX70dZIJ_k_"
      }
    },
    {
      "cell_type": "code",
      "source": [
        "import numpy as np\n",
        "\n",
        "arr = np.array([1, 2, 3, 4, 5])\n",
        "\n",
        "print(arr.dtype)"
      ],
      "metadata": {
        "colab": {
          "base_uri": "https://localhost:8080/"
        },
        "id": "7ZbYdbj6KZnB",
        "outputId": "3893f223-e306-4e3e-f524-2a19cdf77edf"
      },
      "execution_count": 4,
      "outputs": [
        {
          "output_type": "stream",
          "name": "stdout",
          "text": [
            "int64\n"
          ]
        }
      ]
    },
    {
      "cell_type": "markdown",
      "source": [
        "Importance of Data Types\n",
        "\n",
        "Memory Management: Data types play a crucial role in memory management. Different data types require different amounts of memory to store. Choosing the appropriate data type can help reduce the memory footprint of your arrays, especially when dealing with large datasets.\n",
        "\n",
        "For example, if you're working with integers that fall within a specific range, you can use a smaller data type like int16 or int32 instead of the default int64 to save memory.\n",
        "\n",
        "\n",
        "Performance:\n",
        "\n",
        "Data types also impact performance. NumPy's optimized operations are often designed to work most efficiently with specific data types. Using the correct data type can help speed up your calculations.\n",
        "\n",
        "For example, performing arithmetic operations on integer arrays is generally faster than performing the same operations on floating-point arrays.\n",
        "\n",
        "\n",
        "In summary, understanding and selecting the appropriate data types for your NumPy arrays is crucial for efficient memory management and optimal performance in your numerical computations."
      ],
      "metadata": {
        "id": "I6XUYpKzKi_A"
      }
    },
    {
      "cell_type": "markdown",
      "source": [
        "5. Define ndarrays in NumPy and explain their key features. How do they differ from standard Python lists?\n",
        "\n",
        "ANS   Definition of ndarrays:\n",
        "\n",
        "ndarrays (n-dimensional arrays) are the fundamental data structure in NumPy. They are homogeneous, multidimensional arrays used to store and manipulate large collections of numerical data efficiently.\n",
        "\n",
        "Key Features of ndarrays:\n",
        "\n",
        "Homogeneous:\n",
        "\n",
        "All elements in an ndarray must be of the same data type, ensuring efficient storage and manipulation.\n",
        "Multidimensional: ndarrays can have any number of dimensions, allowing them to represent data in various forms, such as vectors, matrices, and tensors.\n",
        "\n",
        "\n",
        "Fixed Size:\n",
        "\n",
        "Once created, the size of an ndarray is fixed, promoting memory efficiency.\n",
        "\n",
        "\n",
        "Element-wise Operations:\n",
        "\n",
        "NumPy provides functions for performing element-wise operations on ndarrays, eliminating the need for explicit loops and improving performance.\n",
        "\n",
        "\n",
        "Broadcasting:\n",
        "\n",
        "Broadcasting enables operations between arrays of different shapes, making code more concise and efficient.\n",
        "\n",
        "\n",
        "Differences from Standard Python Lists:\n",
        "\n",
        "Data Type:\n",
        "\n",
        "ndarrays are homogeneous (elements of the same data type), while Python lists can be heterogeneous (elements of different data types).\n",
        "\n",
        "\n",
        "Memory Efficiency:\n",
        "\n",
        "ndarrays store elements contiguously in memory, leading to better performance and memory efficiency than Python lists, where elements can be scattered in memory.\n",
        "\n",
        "\n",
        "Performance:\n",
        "\n",
        "NumPy operations on ndarrays are significantly faster than equivalent operations on Python lists due to optimized algorithms and C implementation.\n",
        "Functionality: NumPy provides a wide range of mathematical and scientific functions specifically designed for ndarrays, offering functionality not readily available for Python lists.\n",
        "\n",
        "\n",
        "In summary, ndarrays are the core of NumPy, offering efficient storage and manipulation of numerical data for scientific computing. Their key features—homogeneity, multidimensionality, fixed size, element-wise operations, and broadcasting—make them a powerful tool for data analysis and numerical computations, significantly enhancing the capabilities of standard Python lists."
      ],
      "metadata": {
        "id": "5LkI9hoaKvsC"
      }
    },
    {
      "cell_type": "markdown",
      "source": [
        " 6.Analyze the performance benefits of NumPy arrays over Python lists for large-scale numerical operations.\n",
        "\n",
        " ANS   an analysis of the performance benefits of NumPy arrays over Python lists for large-scale numerical operations:\n",
        "\n",
        "NumPy arrays offer significant performance advantages over Python lists for large-scale numerical operations due to the following reasons:\n",
        "\n",
        "Contiguous Memory Allocation:\n",
        "\n",
        "NumPy arrays store data in contiguous memory blocks, meaning elements are stored next to each other in memory. This allows for efficient access and manipulation of data, especially during vectorized operations. Python lists, on the other hand, store pointers to memory locations where the elements are stored, potentially leading to scattered memory allocation and slower access times.\n",
        "\n",
        "Data Type Homogeneity:\n",
        "\n",
        "NumPy arrays are homogeneous, meaning they store elements of the same data type. This allows for optimized storage and faster computations compared to Python lists, which can hold elements of different data types.\n",
        "\n",
        "Vectorized Operations:\n",
        "\n",
        "NumPy provides vectorized operations that allow mathematical functions to be applied to entire arrays without explicit loops. This eliminates the overhead of Python loops, leading to significant performance gains for large-scale computations.\n",
        "\n",
        "Optimized C Implementation:\n",
        "\n",
        "NumPy's core operations are implemented in C, a compiled language, making them significantly faster than equivalent operations performed in Python, an interpreted language. This low-level implementation contributes to the efficiency of NumPy arrays for numerical tasks.\n",
        "\n",
        "Here's an example illustrating the performance difference:"
      ],
      "metadata": {
        "id": "VZ98SEn6Lop8"
      }
    },
    {
      "cell_type": "code",
      "source": [
        "import numpy as np\n",
        "import time\n",
        "\n",
        "# Create a large list and NumPy array\n",
        "size = 1000000\n",
        "python_list = list(range(size))\n",
        "numpy_array = np.arange(size)\n",
        "\n",
        "# Time the execution of a simple operation (e.g., addition)\n",
        "start_time = time.time()\n",
        "result_list = [x + 5 for x in python_list]\n",
        "end_time = time.time()\n",
        "print(\"Python list time:\", end_time - start_time)\n",
        "\n",
        "start_time = time.time()\n",
        "result_array = numpy_array + 5\n",
        "end_time = time.time()\n",
        "print(\"NumPy array time:\", end_time - start_time)"
      ],
      "metadata": {
        "colab": {
          "base_uri": "https://localhost:8080/"
        },
        "id": "rYYccMHEMKZm",
        "outputId": "9ba68d43-372d-4379-9ebc-3a0ba29615a2"
      },
      "execution_count": 5,
      "outputs": [
        {
          "output_type": "stream",
          "name": "stdout",
          "text": [
            "Python list time: 0.11676955223083496\n",
            "NumPy array time: 0.009762763977050781\n"
          ]
        }
      ]
    },
    {
      "cell_type": "markdown",
      "source": [
        "Execute the code yourself to see the output. You will see that NumPy takes significantly less time to complete the operation.\n",
        "\n",
        "In summary, NumPy arrays offer substantial performance improvements for large-scale numerical operations due to their contiguous memory allocation, data type homogeneity, vectorized operations, and optimized C implementation. These features contribute to NumPy's efficiency and its widespread use in scientific computing and data analysis tasks."
      ],
      "metadata": {
        "id": "23n-zp_OQgyg"
      }
    },
    {
      "cell_type": "markdown",
      "source": [
        "7.Compare vstack() and hstack() functions in NumPy. Provide examples demonstrating their usage and\n",
        "output.\n",
        "\n",
        "ANS    a comparison of vstack() and hstack() functions in NumPy with examples:\n",
        "\n",
        "vstack()\n",
        "\n",
        "Purpose: Stacks arrays vertically (row-wise).\n",
        "\n",
        "\n",
        "Input: Takes a sequence of arrays with compatible shapes along the columns.\n",
        "\n",
        "\n",
        "Output: Returns a new array with the input arrays stacked vertically."
      ],
      "metadata": {
        "id": "dUuPwaonQjb6"
      }
    },
    {
      "cell_type": "code",
      "source": [
        "import numpy as np\n",
        "\n",
        "a = np.array([1, 2, 3])\n",
        "b = np.array([4, 5, 6])\n",
        "\n",
        "c = np.vstack((a, b))\n",
        "print(c)"
      ],
      "metadata": {
        "colab": {
          "base_uri": "https://localhost:8080/"
        },
        "id": "-dlyFqUHTTWg",
        "outputId": "a963e475-a5d7-41c8-ca16-96a188d181f3"
      },
      "execution_count": 6,
      "outputs": [
        {
          "output_type": "stream",
          "name": "stdout",
          "text": [
            "[[1 2 3]\n",
            " [4 5 6]]\n"
          ]
        }
      ]
    },
    {
      "cell_type": "markdown",
      "source": [
        "hstack()\n",
        "\n",
        "Purpose: Stacks arrays horizontally (column-wise).\n",
        "\n",
        "\n",
        "Input: Takes a sequence of arrays with compatible shapes along the rows.\n",
        "\n",
        "\n",
        "Output: Returns a new array with the input arrays stacked horizontally."
      ],
      "metadata": {
        "id": "C0XQGpbKTdGt"
      }
    },
    {
      "cell_type": "code",
      "source": [
        "import numpy as np\n",
        "\n",
        "a = np.array([1, 2, 3])\n",
        "b = np.array([4, 5, 6])\n",
        "\n",
        "c = np.hstack((a, b))\n",
        "print(c)"
      ],
      "metadata": {
        "colab": {
          "base_uri": "https://localhost:8080/"
        },
        "id": "Mqn8HPIRTnBU",
        "outputId": "57f80339-5b91-4f6e-a128-b01dea80d95a"
      },
      "execution_count": 7,
      "outputs": [
        {
          "output_type": "stream",
          "name": "stdout",
          "text": [
            "[1 2 3 4 5 6]\n"
          ]
        }
      ]
    },
    {
      "cell_type": "markdown",
      "source": [
        "In summary:\n",
        "\n",
        "vstack() stacks arrays vertically, increasing the number of rows.\n",
        "\n",
        "hstack() stacks arrays horizontally, increasing the number of columns."
      ],
      "metadata": {
        "id": "rxNWXt7wTtiV"
      }
    },
    {
      "cell_type": "markdown",
      "source": [
        "8. Explain the differences between fliplr() and flipud() methods in NumPy, including their effects on various\n",
        "array dimensions.\n",
        "\n",
        "ANS  fliplr()\n",
        "\n",
        "Purpose: Reverses the order of elements along axis 1 (left to right).\n",
        "\n",
        "Effect on array dimensions:\n",
        "\n",
        "1D arrays: Reverses the elements.\n",
        "\n",
        "2D arrays: Flips the entries in each row in the left/right direction. Columns are preserved but appear in reverse order.\n",
        "\n",
        "N-dimensional arrays (N > 2): Equivalent to np.flip(array, axis=1). It flips along the second axis.\n",
        "\n",
        "Example:"
      ],
      "metadata": {
        "id": "lWPi1bg0Ty9Q"
      }
    },
    {
      "cell_type": "code",
      "source": [
        "import numpy as np\n",
        "\n",
        "arr_2d = np.array([[1, 2, 3], [4, 5, 6]])\n",
        "flipped_arr = np.fliplr(arr_2d)\n",
        "print(flipped_arr)"
      ],
      "metadata": {
        "colab": {
          "base_uri": "https://localhost:8080/"
        },
        "id": "sJwoj1jiUWuy",
        "outputId": "59e105c9-6d85-42cc-9691-08271a1ac722"
      },
      "execution_count": 8,
      "outputs": [
        {
          "output_type": "stream",
          "name": "stdout",
          "text": [
            "[[3 2 1]\n",
            " [6 5 4]]\n"
          ]
        }
      ]
    },
    {
      "cell_type": "markdown",
      "source": [
        "flipud()\n",
        "\n",
        "Purpose: Reverses the order of elements along axis 0 (up to down).\n",
        "\n",
        "Effect on array dimensions:\n",
        "\n",
        "    1D arrays: Reverses the elements (same as fliplr() for 1D).\n",
        "\n",
        "     2D arrays: Flips the entries in each column in the up/down direction. Rows are preserved but appear in reverse order.\n",
        "\n",
        "     N-dimensional arrays (N > 2): Equivalent to np.flip(array, axis=0). It flips along the first axis.\n",
        "\n",
        "Example:"
      ],
      "metadata": {
        "id": "r320pBMyUgtr"
      }
    },
    {
      "cell_type": "code",
      "source": [
        "import numpy as np\n",
        "\n",
        "arr_2d = np.array([[1, 2, 3], [4, 5, 6]])\n",
        "flipped_arr = np.flipud(arr_2d)\n",
        "print(flipped_arr)"
      ],
      "metadata": {
        "colab": {
          "base_uri": "https://localhost:8080/"
        },
        "id": "hjDkTa1PUwky",
        "outputId": "3548a558-93aa-4da2-af1f-8d22779d520a"
      },
      "execution_count": 9,
      "outputs": [
        {
          "output_type": "stream",
          "name": "stdout",
          "text": [
            "[[4 5 6]\n",
            " [1 2 3]]\n"
          ]
        }
      ]
    },
    {
      "cell_type": "markdown",
      "source": [
        "In summary:\n",
        "\n",
        "fliplr() flips an array horizontally (left to right).\n",
        "\n",
        "flipud() flips an array vertically (up to down).\n",
        "\n",
        "For arrays with more than two dimensions, consider using np.flip() with the axis argument for more control over the flipping direction."
      ],
      "metadata": {
        "id": "evxNFznrU4B8"
      }
    },
    {
      "cell_type": "markdown",
      "source": [
        "9. Discuss the functionality of the array_split() method in NumPy. How does it handle uneven splits?\n",
        "\n",
        "ANS    Functionality:\n",
        "\n",
        "The array_split() method in NumPy is used to split an array into multiple sub-arrays. It provides more flexibility than the split() method by handling uneven splits gracefully. This means that if the array cannot be divided evenly into the desired number of sub-arrays, array_split() will distribute the remaining elements as evenly as possible among the sub-arrays.\n",
        "\n",
        "Handling Uneven Splits:\n",
        "\n",
        "Here's how array_split() handles uneven splits:\n",
        "\n",
        "Divisible Case:\n",
        "\n",
        "If the array's size is perfectly divisible by the specified number of splits, array_split() will create sub-arrays of equal size.\n",
        "\n",
        "Indivisible Case:\n",
        "\n",
        "If the array's size is not divisible by the number of splits, array_split() will distribute the remaining elements in a way that minimizes the size difference between sub-arrays.\n",
        "\n",
        "The first n-r sub-arrays will have size s.\n",
        "\n",
        "The remaining r sub-arrays will have size s+1, where:\n",
        "\n",
        "n is the number of sub-arrays requested\n",
        "\n",
        "s is floor(len(array) / n) (the size of each sub-array if the split was even)\n",
        "\n",
        "r is len(array) % n (the remainder when dividing the array's size by the number of sub-arrays)\n",
        "\n",
        "Example:"
      ],
      "metadata": {
        "id": "pZn22PsMVBzs"
      }
    },
    {
      "cell_type": "code",
      "source": [
        "import numpy as np\n",
        "\n",
        "arr = np.array([1, 2, 3, 4, 5, 6, 7, 8])\n",
        "\n",
        "# Splitting into 3 sub-arrays\n",
        "sub_arrays = np.array_split(arr, 3)\n"
      ],
      "metadata": {
        "id": "6o9WNdCbVmki"
      },
      "execution_count": 15,
      "outputs": []
    },
    {
      "cell_type": "markdown",
      "source": [
        "In this example, array_split() splits the array arr into 3 sub-arrays. Since the array size (8) is not divisible by 3, the remaining elements (2) are distributed among the sub-arrays, resulting in sub-arrays with sizes 3, 3, and 2.\n",
        "\n",
        "In summary, array_split() is a flexible method for splitting arrays in NumPy. Its ability to handle uneven splits makes it a valuable tool for tasks where you need to divide data into specific groups, even if the data size doesn't allow for perfect division. I hope this helps! Let me know if you have any other questions."
      ],
      "metadata": {
        "id": "7YB2_ytrWHWF"
      }
    },
    {
      "cell_type": "markdown",
      "source": [
        "# 10 . Explain the concepts of vectorization and broadcasting in NumPy. How do they contribute to efficient array operations?\n",
        "\n",
        "ANS Vectorization\n",
        "\n",
        "Vectorization is the process of applying operations to entire arrays instead of individual elements. NumPy achieves this through optimized, pre-compiled C code, eliminating the need for explicit Python loops. This leads to significant performance improvements, especially for large arrays.\n",
        "\n",
        "Broadcasting\n",
        "\n",
        "Broadcasting is a powerful mechanism in NumPy that allows operations between arrays of different shapes, as long as certain rules are satisfied. It eliminates the need to create temporary arrays or explicitly reshape arrays to perform element-wise operations. This leads to more concise and efficient code.\n",
        "\n",
        "Contribution to Efficient Array Operations\n",
        "\n",
        "Reduced Execution Time:\n",
        "\n",
        "Vectorization and broadcasting significantly reduce execution time by leveraging optimized C code and eliminating Python loops.\n",
        "Improved Memory Efficiency: Broadcasting avoids creating unnecessary copies of data, leading to better memory utilization, especially for large datasets.\n",
        "Concise Code: Broadcasting allows for more concise and readable code by simplifying operations between arrays of different shapes.\n",
        "Enhanced Flexibility: Broadcasting provides flexibility in performing operations on arrays with compatible dimensions, enabling a wider range of calculations.\n",
        "Example:"
      ],
      "metadata": {
        "id": "8y_f2Mb_WZN4"
      }
    },
    {
      "cell_type": "code",
      "source": [
        "import numpy as np\n",
        "\n",
        "a = np.array([1, 2, 3])\n",
        "b = 2\n",
        "\n",
        "result = a * b  # Broadcasting: b is stretched to match the shape of a\n",
        "print(result)"
      ],
      "metadata": {
        "colab": {
          "base_uri": "https://localhost:8080/"
        },
        "id": "uxpPEkWSXqfB",
        "outputId": "44727c1d-5566-4080-e4fb-879839f31f3d"
      },
      "execution_count": 16,
      "outputs": [
        {
          "output_type": "stream",
          "name": "stdout",
          "text": [
            "[2 4 6]\n"
          ]
        }
      ]
    },
    {
      "cell_type": "markdown",
      "source": [
        "In this example, broadcasting allows the scalar b to be multiplied with each element of the array a without explicit looping. This demonstrates how broadcasting simplifies and optimizes array operations.\n",
        "\n",
        "In summary, vectorization and broadcasting are fundamental concepts in NumPy that contribute to efficient array operations. They significantly improve performance, memory efficiency, code conciseness, and flexibility when working with numerical data in Python."
      ],
      "metadata": {
        "id": "zzaOgZVMXyh4"
      }
    },
    {
      "cell_type": "markdown",
      "source": [
        "# **Practical Questions:**"
      ],
      "metadata": {
        "id": "rOmtawVwX6mf"
      }
    },
    {
      "cell_type": "markdown",
      "source": [
        "1. Create a 3x3 NumPy array with random integers between 1 and 100. Then, interchange its rows and columns."
      ],
      "metadata": {
        "id": "oZHHGvpfYDgd"
      }
    },
    {
      "cell_type": "code",
      "source": [
        "import numpy as np\n",
        "\n",
        "# Create a 3x3 array with random integers between 1 and 100\n",
        "array = np.random.randint(1, 101, size=(3, 3))\n",
        "\n",
        "# Interchange rows and columns using transpose()\n",
        "transposed_array = array.transpose()\n",
        "\n",
        "print(\"Original Array:\")\n",
        "print(array)\n",
        "print(\"\\nTransposed Array:\")\n",
        "print(transposed_array)"
      ],
      "metadata": {
        "colab": {
          "base_uri": "https://localhost:8080/"
        },
        "id": "EhZ6WxVbYYS8",
        "outputId": "99eee1c8-a5cd-4fef-ff2d-f5559d4114f8"
      },
      "execution_count": 17,
      "outputs": [
        {
          "output_type": "stream",
          "name": "stdout",
          "text": [
            "Original Array:\n",
            "[[88 72 18]\n",
            " [26 90 28]\n",
            " [13 86 51]]\n",
            "\n",
            "Transposed Array:\n",
            "[[88 26 13]\n",
            " [72 90 86]\n",
            " [18 28 51]]\n"
          ]
        }
      ]
    },
    {
      "cell_type": "markdown",
      "source": [
        "2. Generate a 1D NumPy array with 10 elements. Reshape it into a 2x5 array, then into a 5x2 array."
      ],
      "metadata": {
        "id": "wUr4CYtlYlUR"
      }
    },
    {
      "cell_type": "code",
      "source": [
        "import numpy as np\n",
        "\n",
        "# Generate a 1D array with 10 elements\n",
        "arr = np.arange(10)\n",
        "\n",
        "# Reshape into a 2x5 array\n",
        "arr_2x5 = arr.reshape(2, 5)\n",
        "\n",
        "# Reshape into a 5x2 array\n",
        "arr_5x2 = arr.reshape(5, 2)\n",
        "\n",
        "print(\"Original Array:\")\n",
        "print(arr)\n",
        "print(\"\\n2x5 Array:\")\n",
        "print(arr_2x5)\n",
        "print(\"\\n5x2 Array:\")\n",
        "print(arr_5x2)"
      ],
      "metadata": {
        "colab": {
          "base_uri": "https://localhost:8080/"
        },
        "id": "kYBC1PYiYxFy",
        "outputId": "a8a05da7-d243-4414-8729-d6b12515cf35"
      },
      "execution_count": 18,
      "outputs": [
        {
          "output_type": "stream",
          "name": "stdout",
          "text": [
            "Original Array:\n",
            "[0 1 2 3 4 5 6 7 8 9]\n",
            "\n",
            "2x5 Array:\n",
            "[[0 1 2 3 4]\n",
            " [5 6 7 8 9]]\n",
            "\n",
            "5x2 Array:\n",
            "[[0 1]\n",
            " [2 3]\n",
            " [4 5]\n",
            " [6 7]\n",
            " [8 9]]\n"
          ]
        }
      ]
    },
    {
      "cell_type": "markdown",
      "source": [
        "3. Create a 4x4 NumPy array with random float values. Add a border of zeros around it, resulting in a 6x6 array."
      ],
      "metadata": {
        "id": "pRdOQiSKY6k1"
      }
    },
    {
      "cell_type": "code",
      "source": [
        "import numpy as np\n",
        "\n",
        "# Create a 4x4 array with random float values\n",
        "array_4x4 = np.random.rand(4, 4)\n",
        "\n",
        "# Create a 6x6 array filled with zeros\n",
        "array_6x6 = np.zeros((6, 6))\n",
        "\n",
        "# Insert the 4x4 array into the center of the 6x6 array\n",
        "array_6x6[1:5, 1:5] = array_4x4\n",
        "\n",
        "print(\"Original 4x4 Array:\")\n",
        "print(array_4x4)\n",
        "print(\"\\n6x6 Array with Zero Border:\")\n",
        "print(array_6x6)"
      ],
      "metadata": {
        "colab": {
          "base_uri": "https://localhost:8080/"
        },
        "id": "VpRrmdRsZK3O",
        "outputId": "f9851db0-4f71-4c16-f4bf-4d365af84610"
      },
      "execution_count": 19,
      "outputs": [
        {
          "output_type": "stream",
          "name": "stdout",
          "text": [
            "Original 4x4 Array:\n",
            "[[0.9829749  0.98887505 0.75110203 0.8978966 ]\n",
            " [0.25983339 0.35575499 0.80076747 0.51766777]\n",
            " [0.53728076 0.48017029 0.46974686 0.31919023]\n",
            " [0.74296646 0.55228356 0.51955065 0.15801866]]\n",
            "\n",
            "6x6 Array with Zero Border:\n",
            "[[0.         0.         0.         0.         0.         0.        ]\n",
            " [0.         0.9829749  0.98887505 0.75110203 0.8978966  0.        ]\n",
            " [0.         0.25983339 0.35575499 0.80076747 0.51766777 0.        ]\n",
            " [0.         0.53728076 0.48017029 0.46974686 0.31919023 0.        ]\n",
            " [0.         0.74296646 0.55228356 0.51955065 0.15801866 0.        ]\n",
            " [0.         0.         0.         0.         0.         0.        ]]\n"
          ]
        }
      ]
    },
    {
      "cell_type": "markdown",
      "source": [
        "4. Using NumPy, create an array of integers from 10 to 60 with a step of 5."
      ],
      "metadata": {
        "id": "OHfMRL75ZZmr"
      }
    },
    {
      "cell_type": "code",
      "source": [
        "import numpy as np\n",
        "\n",
        "array = np.arange(10, 61, 5)\n",
        "print(array)"
      ],
      "metadata": {
        "colab": {
          "base_uri": "https://localhost:8080/"
        },
        "id": "Ko76DAvXZkTl",
        "outputId": "c2a6f2c5-aee9-4f30-b639-beba1abe894c"
      },
      "execution_count": 20,
      "outputs": [
        {
          "output_type": "stream",
          "name": "stdout",
          "text": [
            "[10 15 20 25 30 35 40 45 50 55 60]\n"
          ]
        }
      ]
    },
    {
      "cell_type": "markdown",
      "source": [
        "5. Create a NumPy array of strings ['python', 'numpy', 'pandas']. Apply different case transformations\n",
        "(uppercase, lowercase, title case, etc.) to each element."
      ],
      "metadata": {
        "id": "DGm-vYYyZssb"
      }
    },
    {
      "cell_type": "code",
      "source": [
        "import numpy as np\n",
        "\n",
        "# Create the NumPy array\n",
        "arr = np.array(['python', 'numpy', 'pandas'])\n",
        "\n",
        "# Apply case transformations\n",
        "uppercase = np.char.upper(arr)\n",
        "lowercase = np.char.lower(arr)\n",
        "titlecase = np.char.title(arr)\n",
        "\n",
        "# Print the results\n",
        "print(\"Original Array:\", arr)\n",
        "print(\"Uppercase:\", uppercase)\n",
        "print(\"Lowercase:\", lowercase)\n",
        "print(\"Titlecase:\", titlecase)"
      ],
      "metadata": {
        "colab": {
          "base_uri": "https://localhost:8080/"
        },
        "id": "xMjv4fThZ5ky",
        "outputId": "df5cf8e7-0949-4f48-dc8a-806544ec6d7f"
      },
      "execution_count": 21,
      "outputs": [
        {
          "output_type": "stream",
          "name": "stdout",
          "text": [
            "Original Array: ['python' 'numpy' 'pandas']\n",
            "Uppercase: ['PYTHON' 'NUMPY' 'PANDAS']\n",
            "Lowercase: ['python' 'numpy' 'pandas']\n",
            "Titlecase: ['Python' 'Numpy' 'Pandas']\n"
          ]
        }
      ]
    },
    {
      "cell_type": "markdown",
      "source": [
        "6. Generate a NumPy array of words. Insert a space between each character of every word in the array."
      ],
      "metadata": {
        "id": "tnWHlOqKaC1e"
      }
    },
    {
      "cell_type": "code",
      "source": [
        "import numpy as np\n",
        "\n",
        "# Create a NumPy array of words\n",
        "words = np.array(['hello', 'world', 'python'])\n",
        "\n",
        "# Insert a space between each character\n",
        "result = np.char.join(' ', words)\n",
        "\n",
        "print(\"Original Array:\", words)\n",
        "print(\"Result:\", result)"
      ],
      "metadata": {
        "colab": {
          "base_uri": "https://localhost:8080/"
        },
        "id": "8CRcldmDaMvk",
        "outputId": "f9d77da1-5e96-4232-e018-990a8720b0e7"
      },
      "execution_count": 22,
      "outputs": [
        {
          "output_type": "stream",
          "name": "stdout",
          "text": [
            "Original Array: ['hello' 'world' 'python']\n",
            "Result: ['h e l l o' 'w o r l d' 'p y t h o n']\n"
          ]
        }
      ]
    },
    {
      "cell_type": "markdown",
      "source": [
        "7. Create two 2D NumPy arrays and perform element-wise addition, subtraction, multiplication, and division."
      ],
      "metadata": {
        "id": "77brflWlaT_E"
      }
    },
    {
      "cell_type": "code",
      "source": [
        "import numpy as np\n",
        "\n",
        "# Create two 2D arrays\n",
        "array1 = np.array([[1, 2, 3], [4, 5, 6]])\n",
        "array2 = np.array([[7, 8, 9], [10, 11, 12]])\n",
        "\n",
        "# Perform element-wise operations\n",
        "addition = array1 + array2\n",
        "subtraction = array1 - array2\n",
        "multiplication = array1 * array2\n",
        "division = array1 / array2\n",
        "\n",
        "# Print the results\n",
        "print(\"Array 1:\", array1)\n",
        "print(\"Array 2:\", array2)\n",
        "print(\"\\nAddition:\", addition)\n",
        "print(\"Subtraction:\", subtraction)\n",
        "print(\"Multiplication:\", multiplication)\n",
        "print(\"Division:\", division)"
      ],
      "metadata": {
        "colab": {
          "base_uri": "https://localhost:8080/"
        },
        "id": "affVPu0wadwB",
        "outputId": "72bf6a7a-a231-4bae-e8c4-0aa15f4fbd69"
      },
      "execution_count": 23,
      "outputs": [
        {
          "output_type": "stream",
          "name": "stdout",
          "text": [
            "Array 1: [[1 2 3]\n",
            " [4 5 6]]\n",
            "Array 2: [[ 7  8  9]\n",
            " [10 11 12]]\n",
            "\n",
            "Addition: [[ 8 10 12]\n",
            " [14 16 18]]\n",
            "Subtraction: [[-6 -6 -6]\n",
            " [-6 -6 -6]]\n",
            "Multiplication: [[ 7 16 27]\n",
            " [40 55 72]]\n",
            "Division: [[0.14285714 0.25       0.33333333]\n",
            " [0.4        0.45454545 0.5       ]]\n"
          ]
        }
      ]
    },
    {
      "cell_type": "markdown",
      "source": [
        "8. Use NumPy to create a 5x5 identity matrix, then extract its diagonal elements."
      ],
      "metadata": {
        "id": "dG08jo9OalGP"
      }
    },
    {
      "cell_type": "code",
      "source": [
        "import numpy as np\n",
        "\n",
        "# Create a 5x5 identity matrix\n",
        "identity_matrix = np.identity(5)\n",
        "\n",
        "# Extract diagonal elements\n",
        "diagonal_elements = np.diag(identity_matrix)\n",
        "\n",
        "print(\"Identity Matrix:\")\n",
        "print(identity_matrix)\n",
        "print(\"\\nDiagonal Elements:\", diagonal_elements)"
      ],
      "metadata": {
        "colab": {
          "base_uri": "https://localhost:8080/"
        },
        "id": "EdVqsJdgaudC",
        "outputId": "f5f661ff-1d32-442b-ddb3-ab8971f0ab07"
      },
      "execution_count": 24,
      "outputs": [
        {
          "output_type": "stream",
          "name": "stdout",
          "text": [
            "Identity Matrix:\n",
            "[[1. 0. 0. 0. 0.]\n",
            " [0. 1. 0. 0. 0.]\n",
            " [0. 0. 1. 0. 0.]\n",
            " [0. 0. 0. 1. 0.]\n",
            " [0. 0. 0. 0. 1.]]\n",
            "\n",
            "Diagonal Elements: [1. 1. 1. 1. 1.]\n"
          ]
        }
      ]
    },
    {
      "cell_type": "markdown",
      "source": [
        "9. Generate a NumPy array of 100 random integers between 0 and 1000. Find and display all prime numbers in\n",
        "this array."
      ],
      "metadata": {
        "id": "Hp3xCJvIa2Hh"
      }
    },
    {
      "cell_type": "code",
      "source": [
        "import numpy as np\n",
        "\n",
        "def is_prime(n):\n",
        "  \"\"\"Returns True if n is a prime number, False otherwise.\"\"\"\n",
        "  if n <= 1:\n",
        "    return False\n",
        "  for i in range(2, int(n**0.5) + 1):\n",
        "    if n % i == 0:\n",
        "      return False\n",
        "  return True\n",
        "\n",
        "# Generate a NumPy array of 100 random integers between 0 and 1000\n",
        "random_integers = np.random.randint(0, 1001, size=100)\n",
        "\n",
        "# Find and display all prime numbers in the array\n",
        "prime_numbers = [num for num in random_integers if is_prime(num)]\n",
        "\n",
        "print(\"Random Integers:\", random_integers)\n",
        "print(\"\\nPrime Numbers:\", prime_numbers)"
      ],
      "metadata": {
        "colab": {
          "base_uri": "https://localhost:8080/"
        },
        "id": "3sWkLsoIbD8a",
        "outputId": "e2a6b774-ef1e-42d1-bc16-809effb7099d"
      },
      "execution_count": 25,
      "outputs": [
        {
          "output_type": "stream",
          "name": "stdout",
          "text": [
            "Random Integers: [348 411 269 357  22  21  71 676 606 539 396 354 144  32 590 243 815 957\n",
            " 698  35 127 575  39 592 421 314 278 636 636 826 118 968 277  74 689 584\n",
            " 920 216 185  20 984 475 566 645 767 326 341 429  35 526 324 214 388 166\n",
            " 769 426 277 198   7 647 159 542 723 887 441 676 228 289 101 811 230 849\n",
            " 851 619 676 691 572  80 619 956 553 304 750 460 947 345 971 616 691 569\n",
            " 166 733 983 821 401 399 775 960 404 553]\n",
            "\n",
            "Prime Numbers: [269, 71, 127, 421, 277, 769, 277, 7, 647, 887, 101, 811, 619, 691, 619, 947, 971, 691, 569, 733, 983, 821, 401]\n"
          ]
        }
      ]
    },
    {
      "cell_type": "markdown",
      "source": [
        "10. Create a NumPy array representing daily temperatures for a month. Calculate and display the weekly\n",
        "averages."
      ],
      "metadata": {
        "id": "qddXNzhPbKpS"
      }
    },
    {
      "cell_type": "code",
      "source": [
        "import numpy as np\n",
        "\n",
        "# Assume 30 days in the month\n",
        "daily_temperatures = np.random.randint(20, 35, size=30)  # Example temperatures\n",
        "\n",
        "# Reshape to represent weeks (4 weeks + 2 extra days)\n",
        "# The original reshape was causing the error\n",
        "# Instead, reshape to (5, 6) to consider 5 weeks and 6 days per week or similar\n",
        "# You can adjust this based on how you want to represent the data\n",
        "num_weeks = 5\n",
        "days_per_week = 6  # You can adjust this if needed\n",
        "weekly_temperatures = daily_temperatures.reshape(num_weeks, days_per_week)\n",
        "\n",
        "\n",
        "# Calculate weekly averages\n",
        "weekly_averages = np.mean(weekly_temperatures, axis=1)\n",
        "print(\"Daily Temperatures:\", daily_temperatures)\n",
        "print(\"\\nWeekly Temperatures:\", weekly_temperatures)"
      ],
      "metadata": {
        "colab": {
          "base_uri": "https://localhost:8080/"
        },
        "id": "l2B4IFcHb83D",
        "outputId": "ef6c4831-22c0-4599-acb2-46b26359fc2a"
      },
      "execution_count": 27,
      "outputs": [
        {
          "output_type": "stream",
          "name": "stdout",
          "text": [
            "Daily Temperatures: [28 34 29 34 32 31 26 20 23 23 34 30 21 20 21 22 32 22 26 27 23 24 30 28\n",
            " 30 31 25 24 29 22]\n",
            "\n",
            "Weekly Temperatures: [[28 34 29 34 32 31]\n",
            " [26 20 23 23 34 30]\n",
            " [21 20 21 22 32 22]\n",
            " [26 27 23 24 30 28]\n",
            " [30 31 25 24 29 22]]\n"
          ]
        }
      ]
    }
  ]
}