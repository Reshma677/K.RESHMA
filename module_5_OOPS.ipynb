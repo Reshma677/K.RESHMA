{
  "nbformat": 4,
  "nbformat_minor": 0,
  "metadata": {
    "colab": {
      "provenance": [],
      "authorship_tag": "ABX9TyPU/GuqZ3KzOSgXvG71b7oU",
      "include_colab_link": true
    },
    "kernelspec": {
      "name": "python3",
      "display_name": "Python 3"
    },
    "language_info": {
      "name": "python"
    }
  },
  "cells": [
    {
      "cell_type": "markdown",
      "metadata": {
        "id": "view-in-github",
        "colab_type": "text"
      },
      "source": [
        "<a href=\"https://colab.research.google.com/github/Reshma677/K.RESHMA/blob/main/module_5_OOPS.ipynb\" target=\"_parent\"><img src=\"https://colab.research.google.com/assets/colab-badge.svg\" alt=\"Open In Colab\"/></a>"
      ]
    },
    {
      "cell_type": "markdown",
      "source": [
        "# 1. What are the five key concepts of Object-Oriented Programming (OOP)?\n",
        "\n",
        "ANS  Object-Oriented Programming (OOP) is a programming paradigm that is based on the concept of \"objects\", which can contain data and code. The data is in the form of fields (often known as attributes or properties), and the code is in the form of procedures (often known as methods).\n",
        "\n",
        "A common analogy is to think of objects as real-world things around you. For example, consider a car. A car has certain properties, such as its color, make, model, and year of manufacture. It also has certain methods, such as starting the engine, accelerating, braking, and turning. In OOP, you would represent a car as an object that has these properties and methods.\n",
        "\n",
        "The five key concepts of OOP are:\n",
        "\n",
        "**1. Abstraction:**\n",
        "\n",
        " Abstraction is the process of hiding the complexity of a system from the user. It is a technique for dealing with complexity by providing a simplified interface to a complex system.\n",
        "\n",
        "In the context of OOP, abstraction means hiding the implementation details of an object from the user. The user only needs to know how to interact with the object, not how it is implemented.\n",
        "\n",
        "For example, consider a car. The user only needs to know how to start the engine, accelerate, brake, and turn. The user does not need to know how the engine works, how the transmission works, or how the brakes work.\n",
        "\n",
        "Abstraction can be achieved through the use of abstract classes and interfaces. An abstract class is a class that cannot be instantiated. It is used to define a common interface for a set of subclasses. An interface is a collection of abstract methods. A class that implements an interface must provide implementations for all of the methods in the interface.\n",
        "\n",
        "**2. Encapsulation:**\n",
        "\n",
        "Encapsulation is the process of combining data and methods that operate on that data within a single unit, or object. Encapsulation is used to hide the internal state of an object from the outside world.\n",
        "\n",
        "In the context of OOP, encapsulation means that the data and methods of an object are not accessible to the outside world. The only way to access the data and methods of an object is through the object's interface.\n",
        "\n",
        "For example, consider a car. The engine, transmission, and brakes are all encapsulated within the car. The user cannot access these components directly. The user can only interact with these components through the car's interface, such as the steering wheel, gas pedal, and brake pedal.\n",
        "\n",
        "Encapsulation is achieved through the use of access modifiers. Access modifiers are keywords that are used to specify the visibility of a class, method, or variable. The most common access modifiers are public, private, and protected.\n",
        "\n",
        "Public members are accessible to everyone.\n",
        "Private members are only accessible to members of the same class.\n",
        "Protected members are accessible to members of the same class, as well as to subclasses.\n",
        "\n",
        "**3. Inheritance:**\n",
        "\n",
        " Inheritance is the process of creating a new class from an existing class. The new class is called the subclass, and the existing class is called the superclass. The subclass inherits all of the properties and methods of the superclass.\n",
        "\n",
        "In the context of OOP, inheritance is used to create a hierarchy of classes. The superclass is at the top of the hierarchy, and the subclasses are below it. Each subclass inherits the properties and methods of its superclass, and it can also add its own properties and methods.\n",
        "\n",
        "For example, consider a car. A car is a type of vehicle. So, you could create a superclass called Vehicle and a subclass called Car. The Car class would inherit all of the properties and methods of the Vehicle class, such as the make, model, and year of manufacture. The Car class could also add its own properties and methods, such as the number of doors and the type of engine.\n",
        "\n",
        "Inheritance is a powerful tool that can be used to create reusable and maintainable code. By creating a hierarchy of classes, you can avoid duplicating code and make your code more organized.\n",
        "\n",
        "**4. Polymorphism: **\n",
        "\n",
        "Polymorphism is the ability of an object to take on many forms. In the context of OOP, polymorphism means that a single method can be used to perform different actions depending on the type of object that it is called on.\n",
        "\n",
        "For example, consider the method start(). This method could be used to start a car, a motorcycle, or a lawnmower. The action that is performed when the start() method is called will depend on the type of object that it is called on.\n",
        "\n",
        "Polymorphism is achieved through the use of method overloading and method overriding. Method overloading is the process of defining multiple methods with the same name but different parameters. Method overriding is the process of defining a method in a subclass that has the same name and parameters as a method in the superclass.\n",
        "\n",
        "**5. Association:**\n",
        "\n",
        " Association is a relationship between two or more objects. In the context of OOP, association means that one object has a reference to another object."
      ],
      "metadata": {
        "id": "qZut-85cJ_uJ"
      }
    },
    {
      "cell_type": "code",
      "source": [],
      "metadata": {
        "id": "DJAYL7jZNNf0"
      },
      "execution_count": null,
      "outputs": []
    },
    {
      "cell_type": "markdown",
      "source": [
        "# 2. Write a Python class for a `Car` with attributes for `make`, `model`, and `year`. Include a method to display the car's information."
      ],
      "metadata": {
        "id": "OD68rpsCLgM-"
      }
    },
    {
      "cell_type": "code",
      "source": [
        "class Car:\n",
        "  def __init__(self, make, model, year):\n",
        "    self.make = make\n",
        "    self.model = model\n",
        "    self.year = year\n",
        "\n",
        "  def display_info(self):\n",
        "    print(f\"Make: {self.make}\")\n",
        "    print(f\"Model: {self.model}\")\n",
        "    print(f\"Year: {self.year}\")\n",
        "\n",
        "# Example usage\n",
        "my_car = Car(\"Toyota\", \"Camry\", 2023)\n",
        "my_car.display_info()"
      ],
      "metadata": {
        "colab": {
          "base_uri": "https://localhost:8080/"
        },
        "id": "fn48E2sFN9jv",
        "outputId": "21fb4cee-df85-4a12-c2b3-fe3a9c9e83ec"
      },
      "execution_count": null,
      "outputs": [
        {
          "output_type": "stream",
          "name": "stdout",
          "text": [
            "Make: Toyota\n",
            "Model: Camry\n",
            "Year: 2023\n"
          ]
        }
      ]
    },
    {
      "cell_type": "markdown",
      "source": [
        "This code defines a class named Car to represent car objects. Let's break down the code step by step:\n",
        "\n",
        "class Car: This line declares a class named Car. In object-oriented programming, a class serves as a blueprint or template for creating objects. It defines a structure that encapsulates data (attributes) and operations (methods) that can be performed on that data.\n",
        "\n",
        "**`def init(self, make,"
      ],
      "metadata": {
        "id": "KNzMRnXsPJA1"
      }
    },
    {
      "cell_type": "markdown",
      "source": [
        "# 3. Explain the difference between instance methods and class methods. Provide an example of each.\n",
        "\n",
        "ANS  Instance methods operate on an instance of a class, while class methods operate on the class itself.\n",
        "\n",
        "Here's an example of an instance method:"
      ],
      "metadata": {
        "id": "mZVu2hmaPP54"
      }
    },
    {
      "cell_type": "code",
      "source": [
        "class MyClass:\n",
        "  def __init__(self, value):\n",
        "    self.value = value\n",
        "\n",
        "  def instance_method(self):\n",
        "    return self.value"
      ],
      "metadata": {
        "id": "pIq_HIUaQKwo"
      },
      "execution_count": null,
      "outputs": []
    },
    {
      "cell_type": "markdown",
      "source": [
        "instance_method is an instance method because it takes self as an argument, which refers to the instance of the class.\n",
        "\n",
        "Here's an example of a class method:"
      ],
      "metadata": {
        "id": "oO1QZ2Y1QRWs"
      }
    },
    {
      "cell_type": "code",
      "source": [
        "class MyClass:\n",
        "  class_variable = 0\n",
        "\n",
        "  @classmethod\n",
        "  def class_method(cls):\n",
        "    return cls.class_variable"
      ],
      "metadata": {
        "id": "ClFYq-qVQUV3"
      },
      "execution_count": null,
      "outputs": []
    },
    {
      "cell_type": "markdown",
      "source": [
        "class_method is a class method because it takes cls as an argument, which refers to the class itself. Class methods are defined using the @classmethod decorator.\n",
        "\n",
        "The main difference between instance methods and class methods is that instance methods can access and modify the instance's attributes, while class methods can access and modify the class's attributes."
      ],
      "metadata": {
        "id": "lq4ZkpMIQkxA"
      }
    },
    {
      "cell_type": "markdown",
      "source": [
        "# 4. How does Python implement method overloading? Give an example.\n",
        "\n",
        "ANS   Python doesn't traditionally support method overloading like some other languages (e.g., Java, C++). In those languages, you can have multiple methods in the same class with the same name but different parameters. The language determines which method to call based on the arguments provided during the call.\n",
        "\n",
        "Method overloading is a concept in object-oriented programming where you can define multiple methods within the same class that share the same name but have different parameter lists. The idea is that the programming language can intelligently determine which method to call based on the types and number of arguments provided when the method is invoked. This can lead to more concise and readable code, as you can use a single method name for related operations that differ only in their input parameters.\n",
        "\n",
        "However, Python's approach to method overloading differs from languages like Java or C++. Python is dynamically typed, meaning that type checking occurs at runtime rather than compile time. This dynamic nature influences how method overloading is handled.\n",
        "\n",
        "Traditional Method Overloading\n",
        "\n",
        "In languages with static typing (like Java), the compiler uses the type information of the arguments to determine which overloaded method to call. This is known as static dispatch. For example, if you have two methods named calculate_area, one that takes two integers (for a rectangle) and another that takes a single integer (for a square), the compiler can decide which method to call based on whether you provide two or one integer arguments.\n",
        "\n",
        "Python's Dynamic Approach\n",
        "\n",
        "Python doesn't support this traditional form of method overloading. If you define multiple methods with the same name in a Python class, the last definition will simply overwrite the previous ones. This is because Python doesn't consider the types of parameters when resolving method calls.\n",
        "\n",
        "Alternatives for Achieving Overloading-like Behavior in Python\n",
        "\n",
        "While Python doesn't have built-in method overloading in the traditional sense, there are several ways to achieve similar functionality and flexibility:\n",
        "\n",
        "Default Arguments\n",
        "\n",
        "You can provide default values for parameters in a method definition. If a caller doesn't supply a value for a parameter with a default value, the default value is used."
      ],
      "metadata": {
        "id": "nmp4DA6oQn0q"
      }
    },
    {
      "cell_type": "code",
      "source": [
        "def greet(name, greeting=\"Hello\"):\n",
        "    print(f\"{greeting}, {name}!\")\n",
        "\n",
        "greet(\"Alice\")\n",
        "greet(\"Bob\", \"Hi\")"
      ],
      "metadata": {
        "colab": {
          "base_uri": "https://localhost:8080/"
        },
        "id": "6Ehj8nJ_TEI4",
        "outputId": "ae8fbd97-3138-4062-98c2-5b42c23699c5"
      },
      "execution_count": null,
      "outputs": [
        {
          "output_type": "stream",
          "name": "stdout",
          "text": [
            "Hello, Alice!\n",
            "Hi, Bob!\n"
          ]
        }
      ]
    },
    {
      "cell_type": "markdown",
      "source": [
        "In this example, the greet method has a default value for the greeting parameter. If you call greet with only the name, it uses the default \"Hello.\" If you provide both name and greeting, it uses the provided greeting.\n",
        "\n",
        "Variable-Length Arguments (*args and `kwargs`)**\n",
        "\n",
        "Python allows you to define methods that accept a variable number of arguments using *args (for positional arguments) and **kwargs (for keyword arguments)."
      ],
      "metadata": {
        "id": "D_MwCxPpTNb6"
      }
    },
    {
      "cell_type": "code",
      "source": [
        "def calculate_sum(*args):\n",
        "    total = 0\n",
        "    for number in args:\n",
        "        total += number\n",
        "    return total\n",
        "\n",
        "print(calculate_sum(1, 2, 3))  # Output: 6\n",
        "print(calculate_sum(10, 20))  # Output: 30"
      ],
      "metadata": {
        "colab": {
          "base_uri": "https://localhost:8080/"
        },
        "id": "ZFBidJ2KTe9d",
        "outputId": "595911b0-f466-4559-808a-4fde7921ffd6"
      },
      "execution_count": null,
      "outputs": [
        {
          "output_type": "stream",
          "name": "stdout",
          "text": [
            "6\n",
            "30\n"
          ]
        }
      ]
    },
    {
      "cell_type": "markdown",
      "source": [
        "The calculate_sum function can take any number of positional arguments. Inside the function, args is a tuple containing all the passed arguments."
      ],
      "metadata": {
        "id": "Eau5jRhkTrb1"
      }
    },
    {
      "cell_type": "code",
      "source": [
        "def print_info(**kwargs):\n",
        "    for key, value in kwargs.items():\n",
        "        print(f\"{key}: {value}\")\n",
        "\n",
        "print_info(name=\"Alice\", age=30)"
      ],
      "metadata": {
        "colab": {
          "base_uri": "https://localhost:8080/"
        },
        "id": "AzuJrjShUCGg",
        "outputId": "765d2e5d-fe3d-48bf-ca87-132b41b935c4"
      },
      "execution_count": null,
      "outputs": [
        {
          "output_type": "stream",
          "name": "stdout",
          "text": [
            "name: Alice\n",
            "age: 30\n"
          ]
        }
      ]
    },
    {
      "cell_type": "markdown",
      "source": [
        "The print_info function can take any number of keyword arguments. Inside the function, kwargs is a dictionary containing all the passed keyword arguments.\n",
        "\n",
        "Type Hints and Optional Arguments\n",
        "\n",
        "With type hints (introduced in Python 3.5), you can provide information about the expected types of arguments. While type hints don't enforce types at runtime in the same way as statically typed languages, they can help with code readability and documentation. You can combine type hints with optional arguments to create methods that handle different argument combinations."
      ],
      "metadata": {
        "id": "3IYM1nEBOAic"
      }
    },
    {
      "cell_type": "code",
      "source": [
        "from typing import Optional\n",
        "\n",
        "def greet(name: str, greeting: Optional[str] = \"Hello\"):\n",
        "    print(f\"{greeting}, {name}!\")\n",
        "\n",
        "greet(\"Alice\")  # Uses default greeting\n",
        "greet(\"Bob\", \"Hi\")"
      ],
      "metadata": {
        "colab": {
          "base_uri": "https://localhost:8080/"
        },
        "id": "VqLqVl3xODnu",
        "outputId": "a1c90dfe-1f99-453f-dfe7-b6fa4bbb9b40"
      },
      "execution_count": null,
      "outputs": [
        {
          "output_type": "stream",
          "name": "stdout",
          "text": [
            "Hello, Alice!\n",
            "Hi, Bob!\n"
          ]
        }
      ]
    },
    {
      "cell_type": "markdown",
      "source": [
        "Function Dispatching with Decorators\n",
        "\n",
        "For more complex scenarios where you need fine-grained control over method selection based on argument types, you can use function dispatching techniques with decorators. Libraries like multipledispatch provide tools for this purpose."
      ],
      "metadata": {
        "id": "ZgROTPzCOVG-"
      }
    },
    {
      "cell_type": "code",
      "source": [
        "from multipledispatch import dispatch\n",
        "\n",
        "@dispatch(int, int)\n",
        "def add(x, y):\n",
        "    return x + y\n",
        "\n",
        "@dispatch(str, str)\n",
        "def add(x, y):\n",
        "    return x + \" \" + y\n",
        "\n",
        "print(add(2, 3))  # Output: 5\n",
        "print(add(\"Hello\","
      ],
      "metadata": {
        "colab": {
          "base_uri": "https://localhost:8080/",
          "height": 106
        },
        "id": "EGtMAJhYO4el",
        "outputId": "e9cb7332-aa84-4b55-91c7-341366934a74"
      },
      "execution_count": 21,
      "outputs": [
        {
          "output_type": "error",
          "ename": "SyntaxError",
          "evalue": "incomplete input (<ipython-input-21-9427da651f0a>, line 12)",
          "traceback": [
            "\u001b[0;36m  File \u001b[0;32m\"<ipython-input-21-9427da651f0a>\"\u001b[0;36m, line \u001b[0;32m12\u001b[0m\n\u001b[0;31m    print(add(\"Hello\",\u001b[0m\n\u001b[0m                      ^\u001b[0m\n\u001b[0;31mSyntaxError\u001b[0m\u001b[0;31m:\u001b[0m incomplete input\n"
          ]
        }
      ]
    },
    {
      "cell_type": "markdown",
      "source": [
        "# 5. What are the three types of access modifiers in Python? How are they denoted?\n",
        "\n",
        "ANS  Access modifiers in Python are a set of conventions used to define the visibility and accessibility of class members, such as attributes (variables) and methods (functions). They play a crucial role in encapsulation, one of the fundamental principles of object-oriented programming (OOP). Encapsulation involves bundling data and the methods that operate on that data within a single unit (the class) and controlling the access to that data from the outside world.\n",
        "\n",
        "Python offers three types of access modifiers, although they are not enforced as strictly as in some other programming languages:\n",
        "\n",
        "Public Access Modifier: Members declared as public are accessible from anywhere, both within the class itself and from outside the class. In Python, all members are public by default unless otherwise specified.\n",
        "Protected Access Modifier: Members declared as protected are accessible within the class and its subclasses (derived classes). They are denoted by a single underscore prefix before the member name (e.g., _protected_member).\n",
        "Private Access Modifier: Members declared as private are intended to be accessible only within the class they are defined in. They are denoted by a double underscore prefix before the member name (e.g., __private_member).\n",
        "Public Access Modifier\n",
        "\n",
        "Public members are the most accessible type. They can be accessed directly using the object's name and the dot operator. There are no restrictions on their visibility.\n",
        "\n",
        "Here's an example of a public member:\n",
        "\n",
        "\n"
      ],
      "metadata": {
        "id": "h_J_zUKYO7wI"
      }
    },
    {
      "cell_type": "code",
      "source": [
        "class MyClass:\n",
        "    def __init__(self, public_var):\n",
        "        self.public_var = public_var\n",
        "\n",
        "    def public_method(self):\n",
        "        # Code for the public method\n",
        "        pass\n",
        "\n",
        "# Create an instance of the class\n",
        "obj = MyClass(10)\n",
        "\n",
        "# Accessing the public member\n",
        "print(obj.public_var)  # Output: 10\n",
        "obj.public_method()"
      ],
      "metadata": {
        "colab": {
          "base_uri": "https://localhost:8080/"
        },
        "id": "kHr_um3jPVhN",
        "outputId": "4a486994-bddf-4a34-df82-3f905e9f9bdd"
      },
      "execution_count": null,
      "outputs": [
        {
          "output_type": "stream",
          "name": "stdout",
          "text": [
            "10\n"
          ]
        }
      ]
    },
    {
      "cell_type": "markdown",
      "source": [
        "In this example, both public\\_var and public\\_method are public members and can be accessed from anywhere in the code.\n",
        "\n",
        "Protected Access Modifier\n",
        "\n",
        "Protected members are intended for access within the class and its subclasses. While Python doesn't strictly enforce protected access, the single underscore prefix serves as a convention to indicate that a member should not be accessed directly from outside the class hierarchy.\n",
        "\n",
        "Here's an example of a protected member:"
      ],
      "metadata": {
        "id": "tQU5-4ZmPhEO"
      }
    },
    {
      "cell_type": "code",
      "source": [
        "class MyClass:\n",
        "    def __init__(self, _protected_var):\n",
        "        self._protected_var = _protected_var\n",
        "\n",
        "    def _protected_method(self):\n",
        "        # Code for the protected method\n",
        "        pass\n",
        "\n",
        "class SubClass(MyClass):\n",
        "    def access_protected(self):\n",
        "        print(self._protected_var)  # Accessing protected member from subclass\n",
        "        self._protected_method()\n",
        "\n",
        "# Create instances of the classes\n",
        "obj = MyClass(20)\n",
        "sub_obj = SubClass(30)\n",
        "\n",
        "# Accessing the protected member (not recommended)\n",
        "# print(obj._protected_var)  # Can still be accessed, but not good practice\n"
      ],
      "metadata": {
        "id": "d5Tg5NsuPnkg"
      },
      "execution_count": null,
      "outputs": []
    },
    {
      "cell_type": "markdown",
      "source": [
        "In this example, \\_protected\\_var and \\_protected\\_method are protected members. Although they can technically be accessed from outside the class, it's generally discouraged. Subclasses, however, can access and use protected members.\n",
        "\n",
        "Private Access Modifier\n",
        "\n",
        "Private members are designed to have the most restricted access. They are intended to be accessible only from within the class where they are defined. Python uses a technique called name mangling to achieve a level of privacy for private members.\n",
        "\n",
        "Here's an example of a private member:"
      ],
      "metadata": {
        "id": "VuZ5s2MyPuYO"
      }
    },
    {
      "cell_type": "code",
      "source": [
        "class MyClass:\n",
        "    def __init__(self, __private_var):\n",
        "        self.__private_var = __private_var\n",
        "\n",
        "    def __private_method(self):\n",
        "        # Code for the private method\n",
        "        pass\n",
        "\n",
        "    def public_method(self):\n",
        "        # Accessing private members within the class\n",
        "        print(self.__private_var)  # Output: 40\n",
        "        self.__private_method()\n",
        "\n",
        "# Create an instance of the class\n",
        "obj = MyClass(40)\n",
        "\n",
        "# Accessing the private member (causes an error)\n",
        "# print(obj.__private_var)  # AttributeError: 'MyClass' object has no attribute '__private_var'\n",
        "\n",
        "# Accessing through a public method"
      ],
      "metadata": {
        "id": "VRXHUXSsP03d"
      },
      "execution_count": null,
      "outputs": []
    },
    {
      "cell_type": "markdown",
      "source": [
        "In this example, \\_\\_private\\_var and \\_\\_private\\_method are private members. Attempting to access them directly from outside the class results in an AttributeError. However, they can be accessed and used within the class itself, including through public methods."
      ],
      "metadata": {
        "id": "S9epGBs8P9FI"
      }
    },
    {
      "cell_type": "markdown",
      "source": [
        "# 6. Describe the five types of inheritance in Python. Provide a simple example of multiple inheritance.\n",
        "\n",
        "ANS   1. Single Inheritance\n",
        "\n",
        "Concept: In single inheritance, a subclass inherits properties and methods from a single parent class. This is the most straightforward type of inheritance.\n",
        "Analogy: Think of a \"Bicycle\" class as the parent and a \"MountainBike\" class as the child. The \"MountainBike\" class inherits basic bicycle features (like wheels and pedals) but adds specific attributes for mountain terrain (like suspension and thicker tires).\n",
        "2. Multiple Inheritance\n",
        "\n",
        "Concept: This type allows a subclass to inherit from multiple parent classes, combining their functionalities.\n",
        "Analogy: Imagine a \"FlyingCar\" class inheriting from both \"Car\" (for driving features) and \"Airplane\" (for flying capabilities).\n",
        "3. Multilevel Inheritance\n",
        "\n",
        "Concept: This involves a hierarchy of classes where a subclass inherits from another subclass, forming a chain of inheritance.\n",
        "Analogy: Consider a \"Grandparent\" class, a \"Parent\" class inheriting from \"Grandparent,\" and a \"Child\" class inheriting from \"Parent.\" The \"Child\" class inherits traits from both \"Parent\" and \"Grandparent\" indirectly.\n",
        "4. Hierarchical Inheritance\n",
        "\n",
        "Concept: In this type, multiple subclasses inherit from a single parent class, creating a branching structure.\n",
        "Analogy: Think of a \"Vehicle\" class as the parent, with \"Car,\" \"Motorcycle,\" and \"Truck\" as subclasses. Each subclass inherits general vehicle features but specializes in its own way.\n",
        "5. Hybrid Inheritance\n",
        "\n",
        "Concept: Hybrid inheritance combines two or more types of inheritance, leading to a complex inheritance structure.\n",
        "Analogy: Imagine a \"SportsCar\" class inheriting from both \"Car\" (single inheritance) and \"RaceCar\" (multiple inheritance, where \"RaceCar\" might inherit from \"Car\" and \"PerformanceVehicle\").\n",
        "Example of Multiple Inheritance"
      ],
      "metadata": {
        "id": "qlGGETPfQCoQ"
      }
    },
    {
      "cell_type": "code",
      "source": [
        "class Animal:\n",
        "  def __init__(self, name):\n",
        "    self.name = name\n",
        "\n",
        "  def speak(self):\n",
        "    raise NotImplementedError(\"Subclass must implement abstract method\")\n",
        "\n",
        "class Dog(Animal):\n",
        "  def speak(self):\n",
        "    return \"Woof!\"\n",
        "\n",
        "class Cat(Animal):\n",
        "  def speak(self):\n",
        "    return \"Meow!\"\n",
        "\n",
        "class DogCat(Dog, Cat):\n",
        "  def speak(self):\n",
        "    return f\"{Dog.speak(self)} {Cat.speak(self)}\""
      ],
      "metadata": {
        "id": "vj-1aa9UQmLE"
      },
      "execution_count": null,
      "outputs": []
    },
    {
      "cell_type": "markdown",
      "source": [
        "In this example, DogCat inherits from both Dog and Cat, demonstrating multiple inheritance.\n",
        "\n",
        "The other types of inheritance are not shown here due to the word limit."
      ],
      "metadata": {
        "id": "Cq0ap2xwQupl"
      }
    },
    {
      "cell_type": "markdown",
      "source": [
        "# 7. What is the Method Resolution Order (MRO) in Python? How can you retrieve it programmatically?\n",
        "\n",
        "ANS Method Resolution Order (MRO) in Python\n",
        "\n",
        "The Method Resolution Order (MRO) is a crucial concept in Python's object-oriented programming, particularly when dealing with inheritance. It defines the order in which Python searches for methods and attributes in a class hierarchy, especially in cases of multiple inheritance. Understanding MRO is essential to avoid unexpected behavior and ensure that your code executes correctly.\n",
        "\n",
        "Why is MRO Important?\n",
        "\n",
        "When you call a method on an object, Python needs to determine which implementation of that method to execute. This is straightforward in single inheritance scenarios, but in multiple inheritance, where a class inherits from multiple parent classes, conflicts can arise if the same method name exists in different parent classes. MRO provides a consistent and predictable way to resolve these conflicts.\n",
        "\n",
        "How MRO Works\n",
        "\n",
        "Python uses a specific algorithm called C3 linearization to determine the MRO. This algorithm ensures that:\n",
        "\n",
        "Inheritance is respected: The MRO prioritizes classes closer to the subclass in the inheritance hierarchy.\n",
        "Monotonicity: If a class appears before another class in the MRO of one of its subclasses, it should also appear before that class in the MRO of all its subclasses.\n",
        "C3 Linearization Algorithm\n",
        "\n",
        "The C3 linearization algorithm works by constructing a linear order of classes based on their inheritance relationships. Here's a simplified explanation of the process:\n",
        "\n",
        "Start with the class itself.\n",
        "Consider the MROs of its parent classes.\n",
        "Merge the parent MROs, following these rules:\n",
        "Take the head (first element) of the first parent's MRO.\n",
        "If this head is not present in the tail (rest of the elements) of any other parent's MRO, add it to the class's MRO and remove it from the parent's MRO.\n",
        "If the head is present in the tail of another parent's MRO, move to the next parent's MRO and repeat the process.\n",
        "Continue until all parent MROs are empty.\n",
        "Retrieving MRO Programmatically\n",
        "\n",
        "You can access the MRO of a class in Python using the following methods:\n",
        "\n",
        "__mro__ attribute: This attribute returns a tuple containing the MRO of the class.\n",
        "mro() method: This method also returns the MRO of the class as a tuple.\n",
        "\n",
        "Example\n",
        "\n",
        "Consider the following example of multiple inheritance:"
      ],
      "metadata": {
        "id": "afUO12YMQzte"
      }
    },
    {
      "cell_type": "code",
      "source": [
        "class A:\n",
        "  def method(self):\n",
        "    print(\"Method in class A\")\n",
        "\n",
        "class B:\n",
        "  def method(self):\n",
        "    print(\"Method in class B\")\n",
        "\n",
        "class C(A, B):\n",
        "  pass\n",
        "\n",
        "# Create an instance of class C\n",
        "obj = C()\n",
        "\n",
        "# Print the MRO of class C\n",
        "print(C.__mro__)  # Output: (<class '__main__.C'>, <class '__main__.A'>, <class '__main__.B'>, <class 'object'>)\n",
        "\n",
        "# Call the method\n",
        "obj.method()  # Output: Method in class A"
      ],
      "metadata": {
        "colab": {
          "base_uri": "https://localhost:8080/"
        },
        "id": "nvxn2VjXRQRw",
        "outputId": "6431a62d-2902-43cb-c0bb-eace6cf73206"
      },
      "execution_count": null,
      "outputs": [
        {
          "output_type": "stream",
          "name": "stdout",
          "text": [
            "(<class '__main__.C'>, <class '__main__.A'>, <class '__main__.B'>, <class 'object'>)\n",
            "Method in class A\n"
          ]
        }
      ]
    },
    {
      "cell_type": "markdown",
      "source": [
        "In this example, class C inherits from both A and B. The MRO of C is (C, A, B, object). When obj.method() is called, Python follows the MRO and finds the method in class A first, so that method is executed.\n",
        "\n",
        "Benefits of Understanding MRO\n",
        "\n",
        "Predictable behavior: MRO ensures that method calls are resolved consistently, even in complex inheritance scenarios.\n",
        "Debugging: When facing unexpected behavior, inspecting the MRO can help identify the source of the issue.\n",
        "Code design: Understanding MRO allows you to design class hierarchies that are less prone to conflicts and more maintainable.\n",
        "\n",
        "Conclusion\n",
        "\n",
        "The Method Resolution Order (MRO) is a fundamental concept in Python's object-oriented programming. It defines the order in which Python searches for methods and attributes in a class hierarchy, especially in cases of multiple inheritance. By understanding how MRO works and how to retrieve it programmatically, you can write more robust and predictable code."
      ],
      "metadata": {
        "id": "HG5y4ET7QuzL"
      }
    },
    {
      "cell_type": "markdown",
      "source": [
        "# 8. Create an abstract base class `Shape` with an abstract method `area()`. Then create two subclasses `Circle` and `Rectangle` that implement the `area()` method."
      ],
      "metadata": {
        "id": "wWDCIBnaSEDd"
      }
    },
    {
      "cell_type": "code",
      "source": [
        "from abc import ABC, abstractmethod\n",
        "import math\n",
        "\n",
        "class Shape(ABC):\n",
        "  @abstractmethod\n",
        "  def area(self):\n",
        "    pass\n",
        "\n",
        "class Circle(Shape):\n",
        "  def __init__(self, radius):\n",
        "    self.radius = radius\n",
        "\n",
        "  def area(self):\n",
        "    return math.pi * self.radius**2\n",
        "\n",
        "class Rectangle(Shape):\n",
        "  def __init__(self, length, width):\n",
        "    self.length = length\n",
        "    self.width = width\n",
        "\n",
        "  def area(self):\n",
        "    return self.length * self.width"
      ],
      "metadata": {
        "id": "KyutWCJCSU38"
      },
      "execution_count": null,
      "outputs": []
    },
    {
      "cell_type": "markdown",
      "source": [
        "Explanation:\n",
        "\n",
        "This code defines an abstract base class Shape with an abstract method area(). It then creates two subclasses, Circle and Rectangle, that implement the area() method.\n",
        "\n",
        "Abstract Base Class An abstract base class is a class that cannot be instantiated. It is used to define a common interface for a set of subclasses. Abstract base classes are useful for defining a common set of methods that must be implemented by all subclasses.\n",
        "\n",
        "In this case, the Shape class is an abstract base class because it has an abstract method area(). An abstract method is a method that is declared but not implemented. Subclasses must provide an implementation for the abstract method.\n",
        "\n",
        "Subclasses The Circle and Rectangle classes are subclasses of the Shape class. They both implement the area() method. The Circle class calculates the area of a circle using the formula πr^2, where r is the radius. The Rectangle class calculates the area of a rectangle using the formula l*w, where l is the length and w is the width.\n",
        "\n",
        "Benefits of Using Abstract Base Classes Abstract base classes have several benefits, including:\n",
        "\n",
        "Encapsulation: Abstract base classes help to encapsulate the common functionality of a set of subclasses. This makes the code more modular and easier to maintain.\n",
        "Polymorphism: Abstract base classes allow you to write code that can work with objects of different types. This is because all subclasses of an abstract base class must implement the same set of methods.\n",
        "Code Reusability: Abstract base classes can be used to promote code reuse. This is because subclasses can inherit the common functionality of the abstract base class.\n",
        "\n",
        "Example\n",
        "\n",
        " Usage Here's an example of how to use the Circle and Rectangle classes:"
      ],
      "metadata": {
        "id": "SGwcyQHSSgcL"
      }
    },
    {
      "cell_type": "code",
      "source": [
        "circle = Circle(5)\n",
        "print(circle.area())  # Output: 78.53981633974483\n",
        "\n",
        "rectangle = Rectangle(10, 20)\n",
        "print(rectangle.area())"
      ],
      "metadata": {
        "colab": {
          "base_uri": "https://localhost:8080/"
        },
        "id": "OyYeAJWESvKU",
        "outputId": "e4a5479d-d03c-4e12-bbf0-ad7b42746e51"
      },
      "execution_count": null,
      "outputs": [
        {
          "output_type": "stream",
          "name": "stdout",
          "text": [
            "78.53981633974483\n",
            "200\n"
          ]
        }
      ]
    },
    {
      "cell_type": "markdown",
      "source": [
        "This code creates a Circle object with a radius of 5 and a Rectangle object with a length of 10 and a width of 20. It then calls the area() method on each object and prints the result.\n",
        "\n",
        "Detailed Explanation with 1500 Words\n",
        "\n",
        "Object-Oriented Programming (OOP)\n",
        "\n",
        "Object-Oriented Programming (OOP) is a programming paradigm that organizes software design around data, or objects, rather than functions and logic. An object can be defined as a data field that has unique attributes and behavior. OOP focuses on the interaction between objects.\n",
        "\n",
        "OOP concepts are used to structure a software program into simple, reusable pieces of code blueprints (usually called classes) that are used to create individual instances of objects. There are many object-oriented programming languages including Python, C++, Java, and JavaScript.\n",
        "\n",
        "Classes and Objects\n",
        "\n",
        "Classes are user-defined data types that act as the blueprint for individual objects, attributes and methods. Objects are instances of a class created with specifically defined data.\n",
        "\n",
        "When a class is defined initially, it doesn't use any memory. Memory is allocated only after object instantiation.\n",
        "\n",
        "Objects can be anything you want to represent in your program, such as a car, a person, or a bank account. Each object has its own set of attributes (also known as properties or fields) and methods (also known as functions or behaviors).\n",
        "\n",
        "Attributes are the data that describes an object. For example, a car object might have attributes such as make, model, color, and year. Methods are the actions that an object can perform. For example, a car object might have methods such as start, stop, accelerate, and brake.\n",
        "\n",
        "Abstraction\n",
        "\n",
        "Abstraction is a fundamental concept in object-oriented programming (OOP) that allows you to focus on the essential characteristics of an object while hiding the complex implementation details. It's like providing a simplified interface to interact with an object without needing to know how it works internally.\n",
        "\n",
        "A real-world analogy for abstraction is a car. You can drive a car without knowing the intricate details of the engine"
      ],
      "metadata": {
        "id": "eiDLUj7vS2oI"
      }
    },
    {
      "cell_type": "markdown",
      "source": [
        "# 9. Demonstrate polymorphism by creating a function that can work with different shape objects to calculate and print their areas.\n",
        "\n",
        "ANS   "
      ],
      "metadata": {
        "id": "4cjdaXfJS4Jw"
      }
    },
    {
      "cell_type": "code",
      "source": [
        "from abc import ABC, abstractmethod\n",
        "import math\n",
        "\n",
        "class Shape(ABC):\n",
        "  @abstractmethod\n",
        "  def area(self):\n",
        "    pass\n",
        "\n",
        "class Circle(Shape):\n",
        "  def __init__(self, radius):\n",
        "    self.radius = radius\n",
        "\n",
        "  def area(self):\n",
        "    return math.pi * self.radius**2\n",
        "\n",
        "class Rectangle(Shape):\n",
        "  def __init__(self, length, width):\n",
        "    self.length = length\n",
        "    self.width = width\n",
        "\n",
        "  def area(self):\n",
        "    return self.length * self.width\n",
        "\n",
        "def print_area(shape):\n",
        "  print(f\"The area of the shape is {shape.area()}\")\n",
        "\n",
        "# Create a circle and a rectangle\n",
        "circle = Circle(5)\n",
        "rectangle = Rectangle(10, 20)\n"
      ],
      "metadata": {
        "id": "Nyy9WQ-5TT8c"
      },
      "execution_count": null,
      "outputs": []
    },
    {
      "cell_type": "markdown",
      "source": [
        "Explanation:\n",
        "\n",
        "This code defines an abstract base class Shape with an abstract method area(). It then creates two subclasses, Circle and Rectangle, that implement the area() method. Finally, it defines a function print_area() that takes a Shape object as an argument and prints its area.\n",
        "\n",
        "Polymorphism:\n",
        "\n",
        "Polymorphism is the ability of an object to take on many forms. In the context of OOP, polymorphism means that a single method can be used to perform different actions depending on the type of object that it is called on.\n",
        "\n",
        "In this example, the print_area() function can be used to print the area of any Shape object. This is because the area() method is defined in the Shape class, and all subclasses of Shape must implement the area() method.\n",
        "\n",
        "When the print_area() function is called on a Circle object, the area() method of the Circle class is called. When the print_area() function is called on a Rectangle object, the area() method of the Rectangle class is called.\n",
        "\n",
        "This is polymorphism in action. The print_area() function can work with different shape objects because it relies on the area() method, which is defined in the Shape class and implemented by all subclasses of Shape.\n",
        "\n",
        "Benefits of Polymorphism:\n",
        "\n",
        "Polymorphism has several benefits, including:\n",
        "\n",
        "Flexibility: Polymorphism allows you to write code that can work with objects of different types. This makes your code more flexible and adaptable to change.\n",
        "Code reusability: Polymorphism can help you to reuse code. For example, the print_area() function in this example can be used to print the area of any Shape object.\n",
        "Maintainability: Polymorphism can make your code easier to maintain. For example, if you add a new shape class to your code, you don't need to change the print_area() function.\n",
        "Detailed Explanation with 1500 Words:\n",
        "\n",
        "Object-Oriented Programming (OOP)\n",
        "\n",
        "Object-Oriented Programming (OOP) is a programming paradigm that organizes software design around data, or objects, rather than functions and logic. An object can be defined as a data field that has unique attributes and behavior. OOP focuses on the interaction between objects.\n",
        "\n",
        "OOP concepts are used to structure a software program into simple, reusable pieces of code blueprints (usually called classes) that are used to create individual instances of objects. There are many object-oriented programming languages including Python, C++, Java, and JavaScript.\n",
        "\n",
        "Classes and Objects\n",
        "\n",
        "Classes are user-defined data types that act as the blueprint for individual objects, attributes and methods. Objects are instances of a class created with specifically defined data.\n",
        "\n",
        "When a class is defined initially, it doesn't use any memory. Memory is allocated only after object instantiation.\n",
        "\n",
        "Objects can be anything you want to represent in your program, such as a car, a person, or a bank account. Each object has its own set of attributes (also known as properties or fields) and methods (also known as functions or behaviors).\n",
        "\n",
        "Attributes are the data that describes an object. For example, a car object might have attributes such as make, model, color, and year. Methods are the actions that an object can perform. For example, a car object might have methods such as start, stop, accelerate, and brake.\n",
        "\n",
        "Abstraction\n",
        "\n",
        "Abstraction is a fundamental concept in object-oriented programming (OOP) that allows you to focus on the essential characteristics of an object while hiding the complex implementation details. It's like providing a simplified interface to interact with an object without needing to know how it works internally.\n",
        "\n",
        "A real-world analogy for abstraction is a car. You can drive a car without knowing the intricate details of the engine, transmission, or other internal components."
      ],
      "metadata": {
        "id": "oqEmNYwLThXS"
      }
    },
    {
      "cell_type": "markdown",
      "source": [
        "# 10. Implement encapsulation in a `BankAccount` class with private attributes for `balance` and `account_number`. Include methods for deposit, withdrawal, and balance inquiry."
      ],
      "metadata": {
        "id": "A0xGgWXjTka8"
      }
    },
    {
      "cell_type": "code",
      "source": [
        "class BankAccount:\n",
        "  def __init__(self, account_number, initial_balance=0):\n",
        "    self.__account_number = account_number\n",
        "    self.__balance = initial_balance\n",
        "\n",
        "  def deposit(self, amount):\n",
        "    if amount > 0:\n",
        "      self.__balance += amount\n",
        "      print(f\"Deposit successful. New balance: {self.__balance}\")\n",
        "    else:\n",
        "      print(\"Invalid deposit amount.\")\n",
        "\n",
        "  def withdraw(self, amount):\n",
        "    if amount > 0 and amount <= self.__balance:\n",
        "      self.__balance -= amount\n",
        "      print(f\"Withdrawal successful. New balance: {self.__balance}\")\n",
        "    else:\n",
        "      print(\"Insufficient funds or invalid withdrawal amount.\")\n",
        "\n",
        "  def get_balance(self):\n",
        "    return self.__balance\n",
        "\n",
        "  def get_account_number(self): # The get_account_number method is now correctly indented\n",
        "    return self.__account_number\n"
      ],
      "metadata": {
        "id": "oEwIia5DUjGX"
      },
      "execution_count": null,
      "outputs": []
    },
    {
      "cell_type": "markdown",
      "source": [
        "This code defines a BankAccount class with private attributes for balance and account_number. It includes methods for deposit, withdrawal, and getting the balance and account number.\n",
        "\n",
        "Detailed Explanation with 2000 Words\n",
        "\n",
        "Object-Oriented Programming (OOP)\n",
        "\n",
        "Object-Oriented Programming (OOP) is a programming paradigm that organizes software design around data, or objects, rather than functions and logic. An object can be defined as a data field that has unique attributes and behavior. OOP focuses on the interaction between objects.\n",
        "\n",
        "OOP concepts are used to structure a software program into simple, reusable pieces of code blueprints (usually called classes) that are used to create individual instances of objects. There are many object-oriented programming languages including Python, C++, Java, and JavaScript.\n",
        "\n",
        "Classes and Objects\n",
        "\n",
        "Classes are user-defined data types that act as the blueprint for individual objects, attributes and methods. Objects are instances of a class created with specifically defined data.\n",
        "\n",
        "When a class is defined initially, it doesn't use any memory. Memory is allocated only after object instantiation.\n",
        "\n",
        "Objects can be anything you want to represent in your program, such as a car, a person, or a bank account. Each object has its own set of attributes (also known as properties or fields) and methods (also known as functions or behaviors).\n",
        "\n",
        "Attributes are the data that describes an object. For example, a car object might have attributes such as make, model, color, and year. Methods are the actions that an object can perform. For example, a car object might have methods such as start, stop, accelerate, and brake.\n",
        "\n",
        "Encapsulation\n",
        "\n",
        "Encapsulation is one of the fundamental principles of object-oriented programming (OOP). It refers to the bundling of data (attributes) and the methods (functions) that operate on that data within a single unit, known as a class. Encapsulation serves several important purposes in software development.\n",
        "\n",
        "Data Protection:\n",
        "\n",
        "Encapsulation helps protect the integrity of an object's data. By restricting direct access to an object's internal state (its attributes), encapsulation ensures that the object's data remains in a valid and consistent state. This prevents accidental modification or corruption of data from outside the object.\n",
        "\n",
        "Information Hiding:\n",
        "\n",
        "Encapsulation allows you to hide the internal implementation details of an object from the outside world. This means that users of the object (other parts of the program) only need to know how to interact with the object through its public interface (its methods) and don't need to be concerned with the internal workings.\n",
        "\n",
        "Modularity:\n",
        "\n",
        "Encapsulation promotes modularity by breaking down a program into smaller, self-contained units (classes). Each class can be developed and tested independently, making the code more organized, maintainable, and easier to understand.\n",
        "\n",
        "Flexibility:\n",
        "\n",
        " Encapsulation allows you to change the internal implementation of a class without affecting the code that uses the class, as long as the public interface remains consistent. This flexibility is crucial for adapting to evolving requirements and maintaining code over time.\n",
        "\n",
        "Code Reusability:\n",
        "  \n",
        "  Encapsulated classes can be easily reused in different parts of a program or even in other projects. The well-defined interface ensures that the class can be used without needing to understand its internal complexities.\n",
        "\n",
        "Access Modifiers in Python\n",
        "\n",
        "Access modifiers in Python are a set of conventions used to define the visibility and accessibility of class members, such as attributes (variables) and methods (functions). They play a crucial role in encapsulation, one of the fundamental principles of object-oriented programming (OOP). Encapsulation involves bundling data and the methods that operate on that data within a single unit (the class) and controlling the access to that data from the outside world."
      ],
      "metadata": {
        "id": "S07j2EZtU7we"
      }
    },
    {
      "cell_type": "markdown",
      "source": [
        "# 12. Create a decorator that measures and prints the execution time of a function.\n",
        "\n",
        "ANS\n",
        "\n",
        "\n"
      ],
      "metadata": {
        "id": "f-JQEluzV6QY"
      }
    },
    {
      "cell_type": "code",
      "source": [
        "import time\n",
        "\n",
        "def measure_execution_time(func):\n",
        "  def wrapper(*args, **kwargs):\n",
        "    start_time = time.time()\n",
        "    result = func(*args, **kwargs)\n",
        "    end_time = time.time()\n",
        "    execution_time = end_time - start_time\n",
        "    print(f\"Execution time of {func.__name__}: {execution_time} seconds\")\n",
        "    return result\n",
        "  return wrapper"
      ],
      "metadata": {
        "id": "nYAxAnx0Wa05"
      },
      "execution_count": 22,
      "outputs": []
    },
    {
      "cell_type": "markdown",
      "source": [
        "This code defines a decorator measure_execution_time that takes a function as an argument and returns a wrapper function. The wrapper function measures the execution time of the decorated function and prints it to the console.\n",
        "\n",
        "Decorators\n",
        "Decorators in Python are a powerful way to modify the behavior of functions without changing their core logic. They essentially wrap a function with another function, allowing you to add extra functionality before, after, or around the original function's execution. Decorators are denoted by the @ symbol followed by the decorator function's name, placed above the function definition.\n",
        "\n",
        "How the Decorator Works\n",
        "\n",
        "The measure_execution_time decorator takes a function (func) as an argument.\n",
        "Inside the decorator, a nested function wrapper is defined. This wrapper function will be used to replace the original decorated function.\n",
        "The wrapper function takes any number of positional and keyword arguments (*args and **kwargs) to be passed to the original function.\n",
        "Inside wrapper, the current time is recorded using time.time() before calling the original function.\n",
        "The original function (func) is called with the provided arguments, and the result is stored.\n",
        "After the function call, the current time is recorded again.\n",
        "The execution time is calculated by subtracting the start time from the end time.\n",
        "The execution time is printed to the console along with the function's name.\n",
        "Finally, the result of the original function is returned.\n",
        "The decorator returns the wrapper function, which effectively replaces the original function."
      ],
      "metadata": {
        "id": "wP1GPoLTWibD"
      }
    },
    {
      "cell_type": "code",
      "source": [
        "@measure_execution_time\n",
        "def my_function():\n",
        "  # Function code here\n",
        "  time.sleep(2)\n",
        "\n",
        "my_function()"
      ],
      "metadata": {
        "colab": {
          "base_uri": "https://localhost:8080/"
        },
        "id": "uN6CMC7DWt53",
        "outputId": "eaf4eece-014a-4050-e495-26dac7b6ef1c"
      },
      "execution_count": 23,
      "outputs": [
        {
          "output_type": "stream",
          "name": "stdout",
          "text": [
            "Execution time of my_function: 2.002725124359131 seconds\n"
          ]
        }
      ]
    },
    {
      "cell_type": "markdown",
      "source": [
        "This will print the execution time of my_function to the console.\n",
        "\n",
        "Benefits of Using Decorators for Measuring Execution Time\n",
        "Clean and reusable code: You can apply the decorator to multiple functions without repeating the time measurement logic.\n",
        "Non-invasive: Decorators allow you to add functionality without modifying the original function's code.\n",
        "Improved readability: Separating the timing logic from the core function logic makes the code easier to read and understand.\n",
        "\n",
        "Decorators are a powerful and versatile tool in Python that allow you to modify the behavior of functions without directly altering their source code. They are particularly useful for adding common functionalities like logging, timing, or authorization to functions. In the context of measuring execution time, decorators provide a clean and reusable way to track how long a function takes to execute.\n",
        "\n",
        "The Role of Decorators\n",
        "\n",
        "Decorators work by taking a function as input and returning a modified version of that function. This modified version typically includes additional code that is executed before, after, or around the original function's code. The @ symbol is used to apply a decorator to a function.\n",
        "\n",
        "Understanding the Code\n",
        "\n",
        "The provided code defines a decorator named measure_execution_time. This decorator takes a function (func) as an argument and returns a new function called wrapper. The wrapper function is responsible for measuring the execution time of the original function and printing it to the console.\n",
        "\n",
        "How the Decorator Works\n",
        "\n",
        "When the decorator is applied to a function using the @ syntax, the function is passed as an argument to the decorator.\n",
        "\n",
        "Inside the decorator, a new function called wrapper is defined. This function takes any number of positional and keyword arguments (*args and **kwargs) to allow it to be used with functions that have different parameter lists.\n",
        "\n",
        "Within the wrapper function, the current time is recorded using time.time(). This marks the starting point for measuring the execution time.\n",
        "\n",
        "The original function (func) is called with the provided arguments, and the result is stored in the result variable.\n",
        "\n",
        "After the function call, the current time is recorded again.\n",
        "\n",
        "The execution time is calculated by subtracting the start time from the end time.\n",
        "\n",
        "The execution time is printed to the console using an f-string, which allows you to embed variables and expressions within a string.\n",
        "\n",
        "Finally, the wrapper function returns the result of the original function call"
      ],
      "metadata": {
        "id": "sCNqFpdXW31j"
      }
    },
    {
      "cell_type": "markdown",
      "source": [
        "# 13. Explain the concept of the Diamond Problem in multiple inheritance. How does Python resolve it?\n",
        "\n",
        "ANS  The Diamond Problem in Multiple Inheritance\n",
        "\n",
        "The Diamond Problem is an ambiguity that can arise in object-oriented programming languages that support multiple inheritance. It occurs when a class inherits from two or more classes that have a common ancestor, creating a diamond-shaped inheritance hierarchy. This can lead to confusion about which method or attribute should be inherited and executed when a method or attribute with the same name exists in multiple parent classes.\n",
        "\n",
        "How the Diamond Problem Occurs\n",
        "\n",
        "Consider a scenario where you have four classes: A, B, C, and D. Class B and C both inherit from class A, and class D inherits from both B and C. This creates a diamond-shaped inheritance structure where class D has two paths to inherit from class A: through B and through C.\n",
        "\n",
        "If class A has a method named method_A, and both class B and C override this method with their own implementations (method_B and method_C), then class D inherits two different versions of method_A. When you call method_A on an object of class D, it becomes ambiguous which version of the method should be executed.\n",
        "\n",
        "Resolving the Diamond Problem in Python\n",
        "\n",
        "Python resolves the Diamond Problem using a mechanism called Method Resolution Order (MRO). The MRO defines the order in which Python searches for methods and attributes in a class hierarchy, ensuring a consistent and predictable resolution of inheritance conflicts.\n",
        "\n",
        "Python's MRO Algorithm\n",
        "\n",
        "Python uses the C3 linearization algorithm to determine the MRO. This algorithm ensures that:\n",
        "\n",
        "Inheritance is respected: The MRO prioritizes classes closer to the subclass in the inheritance hierarchy.\n",
        "Monotonicity: If a class appears before another class in the MRO of one of its subclasses, it should also appear before that class in the MRO of all its subclasses.\n",
        "C3 linearization works by constructing a linear order of classes based on their inheritance relationships."
      ],
      "metadata": {
        "id": "AcuvqLeVXLe2"
      }
    },
    {
      "cell_type": "code",
      "source": [
        "class A:\n",
        "    def method(self):\n",
        "        print(\"Method in class A\")\n",
        "\n",
        "class B(A):\n",
        "    def method(self):\n",
        "        print(\"Method in class B\")\n",
        "\n",
        "class C(A):\n",
        "    def method(self):\n",
        "        print(\"Method in class C\")\n",
        "\n",
        "class D(B, C):\n",
        "    pass\n",
        "\n",
        "obj = D()\n",
        "obj.method()  # Output: Method in class B\n",
        "print(D.__mro__)"
      ],
      "metadata": {
        "colab": {
          "base_uri": "https://localhost:8080/"
        },
        "id": "4EiG5d0BXtA4",
        "outputId": "1979930c-2ff2-4db3-f357-c0c599d82c55"
      },
      "execution_count": 24,
      "outputs": [
        {
          "output_type": "stream",
          "name": "stdout",
          "text": [
            "Method in class B\n",
            "(<class '__main__.D'>, <class '__main__.B'>, <class '__main__.C'>, <class '__main__.A'>, <class 'object'>)\n"
          ]
        }
      ]
    },
    {
      "cell_type": "markdown",
      "source": [
        "In this example, class D inherits from both B and C, which both inherit from A. The MRO of D is (D, B, C, A, object). When obj.method() is called, Python follows the MRO and finds the method in class B first, so that method is executed.\n",
        "\n",
        "Benefits of Python's MRO\n",
        "\n",
        "Predictable behavior: MRO ensures that method calls are resolved consistently, even in complex inheritance scenarios.\n",
        "Debugging: When facing unexpected behavior, inspecting the MRO can help identify the source of the issue.\n",
        "Code design: Understanding MRO allows you to design class hierarchies that are less prone to conflicts and more maintainable.\n",
        "Detailed Explanation with 1500 Words\n",
        "\n",
        "Object-Oriented Programming (OOP)\n",
        "\n",
        "Object-Oriented Programming (OOP) is a programming paradigm that organizes software design around data, or objects, rather than functions and logic. An object can be defined as a data field that has unique attributes and behavior. OOP focuses on the interaction between objects.\n",
        "\n",
        "OOP concepts are used to structure a software program into simple, reusable pieces of code blueprints (usually called classes) that are used to create individual instances of objects. There are many object-oriented programming languages including Python, C++, Java, and JavaScript.\n",
        "\n",
        "Classes and Objects\n",
        "\n",
        "Classes are user-defined data types that act as the blueprint for individual objects, attributes, and methods. Objects are instances of a class created with specifically defined data.\n",
        "\n",
        "When a class is defined initially, it doesn't use any memory. Memory is allocated only after object instantiation.\n",
        "\n",
        "Objects can be anything you want to represent in your program, such as a car, a person, or a bank account. Each object has its own set of attributes (also known as properties or fields) and methods (also known as functions or behaviors).\n",
        "\n",
        "Attributes are the data that describes an object. For example, a car object might have attributes such as make, model, color, and year. Methods are the actions that an object can perform. For example, a car object might have methods such as start, stop, accelerate, and brake.\n",
        "\n",
        "Inheritance\n",
        "\n",
        "Inheritance is one of the fundamental concepts in object-oriented programming (OOP). It allows you to create new classes (subclasses) that inherit properties and methods from existing classes (parent classes"
      ],
      "metadata": {
        "id": "k0yn27h7X58O"
      }
    },
    {
      "cell_type": "markdown",
      "source": [
        "# 14. Write a class method that keeps track of the number of instances created from a class."
      ],
      "metadata": {
        "id": "rD4q9XmNX8qw"
      }
    },
    {
      "cell_type": "code",
      "source": [
        "class MyClass:\n",
        "  instance_count = 0  # Class variable to store the count\n",
        "\n",
        "  def __init__(self):\n",
        "    MyClass.instance_count += 1  # Increment count when an instance is created\n",
        "\n",
        "  @classmethod\n",
        "  def get_instance_count(cls):\n",
        "    return cls.instance_count  # Return the current count"
      ],
      "metadata": {
        "id": "GOiJfBs5YQ3F"
      },
      "execution_count": 25,
      "outputs": []
    },
    {
      "cell_type": "markdown",
      "source": [
        "This code defines a class MyClass with a class method get_instance_count that keeps track of the number of instances created from the class.\n",
        "\n",
        "Object-Oriented Programming (OOP)\n",
        "\n",
        "Object-Oriented Programming (OOP) is a programming paradigm that organizes software design around data, or objects, rather than functions and logic. An object can be defined as a data field that has unique attributes and behavior. OOP focuses on the interaction between objects.\n",
        "\n",
        "OOP concepts are used to structure a software program into simple, reusable pieces of code blueprints (usually called classes) that are used to create individual instances of objects. There are many object-oriented programming languages including Python, C++, Java, and JavaScript.\n",
        "\n",
        "Classes and Objects\n",
        "\n",
        "Classes are user-defined data types that act as the blueprint for individual objects, attributes and methods. Objects are instances of a class created with specifically defined data. When a class is defined initially, it doesn't use any memory. Memory is allocated only after object instantiation.\n",
        "\n",
        "Objects can be anything you want to represent in your program, such as a car, a person, or a bank account. Each object has its own set of attributes (also known as properties or fields) and methods (also known as functions or behaviors).\n",
        "\n",
        "Attributes are the data that describes an object. For example, a car object might have attributes such as make, model, color, and year. Methods are the actions that an object can perform. For example, a car object might have methods such as start, stop, accelerate, and brake.\n",
        "\n",
        "Class Variables\n",
        "\n",
        "In Python, a class variable is a variable that is shared among all instances of a class. Class variables are defined within the class but outside of any methods. They are accessed using the class name dot the variable name.\n",
        "\n",
        "Class variables are useful for storing data that is common to all instances of a class. For example, you could use a class variable to store the number of instances that have been created from a class.\n",
        "\n",
        "Class Methods\n",
        "\n",
        "In Python, a class method is a method that is bound to the class and not the instance of the class. Class methods are defined using the @classmethod decorator. The first argument of a class method is always the class itself, conventionally named cls.\n",
        "\n",
        "Class methods are useful for performing operations that are related to the class, but not to any specific instance of the class. For example, you could use a class method to create a new instance of the class from a file.\n",
        "\n",
        "The __init__ Method\n",
        "\n",
        "The __init__ method is a special method in Python classes that is called when an instance of the class is created. The __init__ method is used to initialize the attributes of the object.\n",
        "\n",
        "The first argument of the __init__ method is always self, which refers to the instance of the class.\n",
        "\n",
        "Keeping Track of Instances\n",
        "\n",
        "To keep track of the number of instances created from a class, you can use a class variable and a class method.\n",
        "\n",
        "Define a class variable to store the count.\n",
        "Increment the count in the __init__ method.\n",
        "Define a class method to return the current count.\n",
        "Example\n",
        "\n",
        "The code provided above demonstrates how to keep track of the number of instances created from a class.\n",
        "\n",
        "The MyClass class has a class variable instance_count which is initialized to 0. The __init__ method increments the instance_count variable by 1 each time an instance of the class is created. The get_instance_count class method returns the current value of the instance_count variable.\n",
        "\n",
        "Benefits of Using Class Methods for Counting Instances\n",
        "\n",
        "Encapsulation: The counting logic is encapsulated within the class itself, making the code more modular and easier to maintain.\n",
        "\n",
        "Reusability: The class method can be used to get the instance count from anywhere in the code.\n",
        "\n",
        "Readability: The code is more readable and easier to understand because the counting logic is clearly separated from the rest of the class.\n",
        "\n",
        "Conclusion\n",
        "\n",
        "Class methods are a powerful tool in Python that can be used to perform operations that are related to the class, but not to any specific instance of the class. They are particularly useful for keeping track of the number of instances that have been created from a class."
      ],
      "metadata": {
        "id": "mDxHQTQ-YWyH"
      }
    },
    {
      "cell_type": "markdown",
      "source": [
        "# 15. Implement a static method in a class that checks if a given year is a leap year."
      ],
      "metadata": {
        "id": "mPvi7qEOYlsR"
      }
    },
    {
      "cell_type": "code",
      "source": [
        "class DateUtils:\n",
        "  @staticmethod\n",
        "  def is_leap_year(year):\n",
        "    if year % 4 == 0:\n",
        "      if year % 100 == 0:\n",
        "        if year % 400 == 0:\n",
        "          return True\n",
        "        else:\n",
        "          return False\n",
        "      else:\n",
        "        return True\n",
        "    else:\n",
        "      return False\n",
        "\n",
        "# Example usage\n",
        "print(DateUtils.is_leap_year(2024))  # Output: True"
      ],
      "metadata": {
        "colab": {
          "base_uri": "https://localhost:8080/"
        },
        "id": "ErpUVjeOY6M7",
        "outputId": "0d3a108f-1426-4028-dbd1-59e664b5ab04"
      },
      "execution_count": 26,
      "outputs": [
        {
          "output_type": "stream",
          "name": "stdout",
          "text": [
            "True\n"
          ]
        }
      ]
    },
    {
      "cell_type": "markdown",
      "source": [
        "This code defines a class DateUtils with a static method is_leap_year that checks if a given year is a leap year.\n",
        "\n",
        "Static Methods\n",
        "Static methods are methods that belong to a class rather than an instance of the class. They are defined using the @staticmethod decorator. Unlike instance methods, static methods do not have access to the instance's attributes (self) or the class's attributes (cls). They are called on the class itself, not on an instance of the class.\n",
        "\n",
        "Static methods are often used for utility functions that are related to the class but do not need to access any instance-specific data. For example, the is_leap_year method in this example is a utility function that can be used to check if any year is a leap year. It does not need to access any instance-specific data, so it is a good candidate for a static method.\n",
        "\n",
        "Leap Year Rules\n",
        "A leap year is a year that has 366 days instead of the usual 365 days. The extra day is added to February, which has 29 days instead of 28 days in a leap year.\n",
        "\n",
        "The rules for determining if a year is a leap year are as follows:\n",
        "\n",
        "If the year is divisible by 4, it is a leap year.\n",
        "However, if the year is also divisible by 100, it is not a leap year.\n",
        "But if the year is also divisible by 400, it is a leap year.\n",
        "These rules can be implemented in code as follows:"
      ],
      "metadata": {
        "id": "JGi8DktfZCHw"
      }
    },
    {
      "cell_type": "code",
      "source": [
        "if year % 4 == 0:\n",
        "  if year % 100 == 0:\n",
        "    if year % 400 == 0:\n",
        "      return True\n",
        "    else:\n",
        "      return False\n",
        "  else:\n",
        "    return True\n",
        "else:\n",
        "  return False"
      ],
      "metadata": {
        "colab": {
          "base_uri": "https://localhost:8080/",
          "height": 106
        },
        "id": "Tg-Vr7NaZHB-",
        "outputId": "ad12a2d6-ae89-4169-a537-5380366dcd3e"
      },
      "execution_count": 27,
      "outputs": [
        {
          "output_type": "error",
          "ename": "SyntaxError",
          "evalue": "'return' outside function (<ipython-input-27-cfe3c3a6ed12>, line 4)",
          "traceback": [
            "\u001b[0;36m  File \u001b[0;32m\"<ipython-input-27-cfe3c3a6ed12>\"\u001b[0;36m, line \u001b[0;32m4\u001b[0m\n\u001b[0;31m    return True\u001b[0m\n\u001b[0m    ^\u001b[0m\n\u001b[0;31mSyntaxError\u001b[0m\u001b[0;31m:\u001b[0m 'return' outside function\n"
          ]
        }
      ]
    },
    {
      "cell_type": "markdown",
      "source": [
        "Example Usage\n",
        "To use the is_leap_year static method, you would call it on the class itself, like this:"
      ],
      "metadata": {
        "id": "hascfR6-ZSV-"
      }
    },
    {
      "cell_type": "code",
      "source": [
        "print(DateUtils.is_leap_year(2024))  # Output: True"
      ],
      "metadata": {
        "colab": {
          "base_uri": "https://localhost:8080/"
        },
        "id": "oI3w-qthZXSc",
        "outputId": "c8ae6e62-756c-4fb0-c54d-748205f14afc"
      },
      "execution_count": 28,
      "outputs": [
        {
          "output_type": "stream",
          "name": "stdout",
          "text": [
            "True\n"
          ]
        }
      ]
    },
    {
      "cell_type": "markdown",
      "source": [
        "This would print True to the console, since 2024 is a leap year.\n",
        "\n",
        "Object-Oriented Programming (OOP)\n",
        "\n",
        "Object-Oriented Programming (OOP) is a programming paradigm that organizes software design around data, or objects, rather than functions and logic. An object can be defined as a data field that has unique attributes and behavior. OOP focuses on the interaction between objects.\n",
        "\n",
        "OOP concepts are used to structure a software program into simple, reusable pieces of code blueprints (usually called classes) that are used to create individual instances of objects. There are many object-oriented programming languages including Python, C++, Java, and JavaScript.\n",
        "\n",
        "Classes and Objects\n",
        "\n",
        "Classes are user-defined data types that act as the blueprint for individual objects, attributes, and methods. Objects are instances of a class created with specifically defined data.\n",
        "\n",
        "When a class is defined initially, it doesn't use any memory. Memory is allocated only after object instantiation.\n",
        "\n",
        "Objects can be anything you want to represent in your program, such as a car, a person, or a bank account. Each object has its own set of attributes (also known as properties or fields) and methods (also known as functions or behaviors).\n",
        "\n",
        "Attributes are the data that describes an object. For example, a car object might have attributes such as make, model, color, and year. Methods are the actions that an object can perform. For example, a car object might have methods such as start, stop, accelerate, and brake.\n",
        "\n",
        "Methods\n",
        "\n",
        "Methods are functions that are defined inside a class. They are used to define the behavior of objects. Instance methods are methods that operate on an instance of a class. They have access to the instance's attributes (self) and the class's attributes (cls). Class methods are methods that operate on the class itself. They are defined using the @classmethod decorator and have access to the class's attributes (cls) but not the instance's attributes (self). Static methods are methods that belong to a class rather than an instance of the class. They are defined using the @staticmethod decorator and do not have access to the instance"
      ],
      "metadata": {
        "id": "fpdqnFYVZelK"
      }
    }
  ]
}